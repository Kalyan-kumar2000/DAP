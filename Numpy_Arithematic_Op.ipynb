{
  "nbformat": 4,
  "nbformat_minor": 5,
  "metadata": {
    "kernelspec": {
      "display_name": "Python 3",
      "language": "python",
      "name": "python3"
    },
    "language_info": {
      "codemirror_mode": {
        "name": "ipython",
        "version": 3
      },
      "file_extension": ".py",
      "mimetype": "text/x-python",
      "name": "python",
      "nbconvert_exporter": "python",
      "pygments_lexer": "ipython3",
      "version": "3.8.8"
    },
    "colab": {
      "name": "Numpy Arithematic Op.ipynb",
      "provenance": [],
      "collapsed_sections": [],
      "include_colab_link": true
    }
  },
  "cells": [
    {
      "cell_type": "markdown",
      "metadata": {
        "id": "view-in-github",
        "colab_type": "text"
      },
      "source": [
        "<a href=\"https://colab.research.google.com/github/Kalyan-kumar2000/DAP/blob/main/Numpy_Arithematic_Op.ipynb\" target=\"_parent\"><img src=\"https://colab.research.google.com/assets/colab-badge.svg\" alt=\"Open In Colab\"/></a>"
      ]
    },
    {
      "cell_type": "code",
      "metadata": {
        "id": "91bbf5de",
        "outputId": "fe57f1d9-8255-4153-b75b-c391cb1dac39"
      },
      "source": [
        "import numpy as np\n",
        "\n",
        "a=np.array(9)\n",
        "\n",
        "print(\"Print A= \",a)\n",
        "\n",
        "b=np.array([10,20,30])\n",
        "\n",
        "print(\"Print B= \", b)\n",
        "\n",
        "addition= np.add(a,b)\n",
        "\n",
        "print(\"After Addition =\", addition)\n",
        "\n",
        "sub=np.subtract(b,a)\n",
        "\n",
        "print(\"After Subtraction =\",sub)\n",
        "\n",
        "mul=np.multiply (a,b)\n",
        "\n",
        "print(\"After Multiplcation =\",mul)\n",
        "\n",
        "div=np.divide (b,a)\n",
        "\n",
        "print(\"After Division =\",div)\n",
        "\n",
        "div1=np.divide (b,5)\n",
        "\n",
        "print(\"After Division =\",div1)"
      ],
      "id": "91bbf5de",
      "execution_count": null,
      "outputs": [
        {
          "name": "stdout",
          "output_type": "stream",
          "text": [
            "Print A=  9\n",
            "Print B=  [10 20 30]\n",
            "After Addition = [19 29 39]\n",
            "After Subtraction = [ 1 11 21]\n",
            "After Multiplcation = [ 90 180 270]\n",
            "After Division = [1.11111111 2.22222222 3.33333333]\n",
            "After Division = [2. 4. 6.]\n"
          ]
        }
      ]
    },
    {
      "cell_type": "code",
      "metadata": {
        "id": "a2c04231",
        "outputId": "7c1bda28-5cd6-4694-8fb1-6e8ac82f4dca"
      },
      "source": [
        "#reciprocal\n",
        "\n",
        "a= np.array([0.25,1.33,1,111])\n",
        "\n",
        "print(a)\n",
        "\n",
        "rec=np.reciprocal(a) \n",
        "print(rec)"
      ],
      "id": "a2c04231",
      "execution_count": null,
      "outputs": [
        {
          "name": "stdout",
          "output_type": "stream",
          "text": [
            "[  0.25   1.33   1.   111.  ]\n",
            "[4.         0.7518797  1.         0.00900901]\n"
          ]
        }
      ]
    },
    {
      "cell_type": "code",
      "metadata": {
        "id": "82733c0d",
        "outputId": "144d6481-91ce-4963-9b0b-46ec1495189d"
      },
      "source": [
        "a=np.array([10,100,1000])\n",
        "\n",
        "print(a)\n",
        "\n",
        "pow=np.power(a,2)\n",
        "print(\"after ^2 = \", pow)\n",
        "\n",
        "\n",
        "b=np.array([2,3,1])\n",
        "\n",
        "pow1=np.power(a,b)\n",
        "print(\"after b array elements as ^ = \", pow1)\n"
      ],
      "id": "82733c0d",
      "execution_count": null,
      "outputs": [
        {
          "name": "stdout",
          "output_type": "stream",
          "text": [
            "[  10  100 1000]\n",
            "after ^2 =  [    100   10000 1000000]\n",
            "after b array elements as ^ =  [    100 1000000    1000]\n"
          ]
        }
      ]
    },
    {
      "cell_type": "code",
      "metadata": {
        "id": "156df101",
        "outputId": "24fef868-0b26-4869-ee80-a19cb3e78436"
      },
      "source": [
        "a= np.array ([10,20,30])\n",
        "b= np.array ([3,5,7])\n",
        "\n",
        "print(\"values of A=\", a)\n",
        "print(\"values of B=\", b)\n",
        "\n",
        "mm=np.mod(a,b)\n",
        "\n",
        "rm=np.remainder(a,b)\n",
        "\n",
        "print(\"values of MOD=\", mm)\n",
        "print(\"values of REMAINDER=\", rm)\n",
        "\n"
      ],
      "id": "156df101",
      "execution_count": null,
      "outputs": [
        {
          "name": "stdout",
          "output_type": "stream",
          "text": [
            "values of A= [10 20 30]\n",
            "values of B= [3 5 7]\n",
            "values of MOD= [1 0 2]\n",
            "values of REMAINDER= [1 0 2]\n"
          ]
        }
      ]
    },
    {
      "cell_type": "code",
      "metadata": {
        "id": "6d08a918",
        "outputId": "807898dd-8a0c-422e-c5b7-8fca329ed97b"
      },
      "source": [
        "a=np.array([-5.6j, 0.2j,11, 1+1j])\n",
        "print(a)\n",
        "\n",
        "print(\"real=\",np.real(a))\n",
        "\n",
        "print(\"imaginary=\",np.imag(a))\n",
        "\n",
        "print(\"Conjugate=\", np.conj(a))"
      ],
      "id": "6d08a918",
      "execution_count": null,
      "outputs": [
        {
          "name": "stdout",
          "output_type": "stream",
          "text": [
            "[-0.-5.6j  0.+0.2j 11.+0.j   1.+1.j ]\n",
            "real= [-0.  0. 11.  1.]\n",
            "imaginary= [-5.6  0.2  0.   1. ]\n",
            "Conjugate= [-0.+5.6j  0.-0.2j 11.-0.j   1.-1.j ]\n"
          ]
        }
      ]
    },
    {
      "cell_type": "code",
      "metadata": {
        "id": "090a4e86",
        "outputId": "f3b81411-0171-44c7-b234-76119e30a3cb"
      },
      "source": [
        "a=np.array ([1.0,5.3,123,0.56,25.5,32])\n",
        "\n",
        "print(a)\n",
        "\n",
        "print(\"after rounding up=\", np.around(a))\n",
        "\n",
        "print(\"after rounding up to 1st decimal value =\", np.around(a,decimals=1))"
      ],
      "id": "090a4e86",
      "execution_count": null,
      "outputs": [
        {
          "name": "stdout",
          "output_type": "stream",
          "text": [
            "[  1.     5.3  123.     0.56  25.5   32.  ]\n",
            "after rounding up= [  1.   5. 123.   1.  26.  32.]\n",
            "after rounding up to 1st decimal value = [  1.    5.3 123.    0.6  25.5  32. ]\n"
          ]
        }
      ]
    },
    {
      "cell_type": "code",
      "metadata": {
        "id": "cf71e3e5",
        "outputId": "d7201db2-6885-4df5-a89a-82e29aeeb391"
      },
      "source": [
        "a=np.array ([1.0,-5.3,123,-0.56,25.5,32])\n",
        "\n",
        "print(a)\n",
        "\n",
        "print('\\n')\n",
        "\n",
        "print(np.floor(a))\n",
        "\n",
        "print(np.ceil(a))"
      ],
      "id": "cf71e3e5",
      "execution_count": null,
      "outputs": [
        {
          "name": "stdout",
          "output_type": "stream",
          "text": [
            "[  1.    -5.3  123.    -0.56  25.5   32.  ]\n",
            "\n",
            "\n",
            "[  1.  -6. 123.  -1.  25.  32.]\n",
            "[  1.  -5. 123.  -0.  26.  32.]\n"
          ]
        }
      ]
    },
    {
      "cell_type": "code",
      "metadata": {
        "id": "00c8249e"
      },
      "source": [
        ""
      ],
      "id": "00c8249e",
      "execution_count": null,
      "outputs": []
    }
  ]
}