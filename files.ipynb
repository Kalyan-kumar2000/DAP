{
  "nbformat": 4,
  "nbformat_minor": 0,
  "metadata": {
    "colab": {
      "name": "files.ipynb",
      "provenance": [],
      "collapsed_sections": [],
      "authorship_tag": "ABX9TyO3mr1xMHJXoczW31nwAtZ5",
      "include_colab_link": true
    },
    "kernelspec": {
      "name": "python3",
      "display_name": "Python 3"
    },
    "language_info": {
      "name": "python"
    }
  },
  "cells": [
    {
      "cell_type": "markdown",
      "metadata": {
        "id": "view-in-github",
        "colab_type": "text"
      },
      "source": [
        "<a href=\"https://colab.research.google.com/github/Kalyan-kumar2000/DAP/blob/main/files.ipynb\" target=\"_parent\"><img src=\"https://colab.research.google.com/assets/colab-badge.svg\" alt=\"Open In Colab\"/></a>"
      ]
    },
    {
      "cell_type": "code",
      "metadata": {
        "colab": {
          "base_uri": "https://localhost:8080/"
        },
        "id": "kBEugCAcB63O",
        "outputId": "e503d58d-c2a1-43ca-de5e-0627100671db"
      },
      "source": [
        "print (\"Python is easiest programming language,\", \"isn't it?\")"
      ],
      "execution_count": null,
      "outputs": [
        {
          "output_type": "stream",
          "name": "stdout",
          "text": [
            "Python is easiest programming language, isn't it?\n"
          ]
        }
      ]
    },
    {
      "cell_type": "code",
      "metadata": {
        "colab": {
          "base_uri": "https://localhost:8080/"
        },
        "id": "GPKgL0TFCT01",
        "outputId": "18679a79-b7fe-48ed-e617-cea9a6087e8d"
      },
      "source": [
        "str = input(\"Enter your input: \")\n",
        "print (\"Received input is : \", str)"
      ],
      "execution_count": null,
      "outputs": [
        {
          "output_type": "stream",
          "name": "stdout",
          "text": [
            "Enter your input: kalyan\n",
            "Received input is :  kalyan\n"
          ]
        }
      ]
    },
    {
      "cell_type": "code",
      "metadata": {
        "colab": {
          "base_uri": "https://localhost:8080/"
        },
        "id": "izx88M0_CYLL",
        "outputId": "d2d9eaa4-5eee-4601-cd4d-8acde27a654e"
      },
      "source": [
        "# Open a file\n",
        "fo = open(\"cse7sem.txt\", \"wb\")\n",
        "print (\"Name of the file: \", fo.name)\n",
        "\n",
        "# Close opend file\n",
        "fo.close()"
      ],
      "execution_count": null,
      "outputs": [
        {
          "output_type": "stream",
          "name": "stdout",
          "text": [
            "Name of the file:  cse7sem.txt\n"
          ]
        }
      ]
    },
    {
      "cell_type": "code",
      "metadata": {
        "colab": {
          "base_uri": "https://localhost:8080/"
        },
        "id": "3BosvmfnCb87",
        "outputId": "4a3d5b0b-a3f2-43e1-cc25-c10d781ebe78"
      },
      "source": [
        "# Open a file\n",
        "fo = open(\"cse7sem.txt\", \"r+\")\n",
        "str = fo.read(10);\n",
        "print (\"Read String is : \", str)\n",
        "# Close opend file\n",
        "fo.close()"
      ],
      "execution_count": null,
      "outputs": [
        {
          "output_type": "stream",
          "name": "stdout",
          "text": [
            "Read String is :  \n"
          ]
        }
      ]
    },
    {
      "cell_type": "code",
      "metadata": {
        "colab": {
          "base_uri": "https://localhost:8080/"
        },
        "id": "5Gntnl58ClD6",
        "outputId": "1234ef3d-00d0-4756-d2af-ccef3f3d4bd6"
      },
      "source": [
        "fo = open(\"cse7sem.txt\", \"wb\")\n",
        "print (\"Name of the file: \", fo.name)\n",
        "print (\"Closed or not : \", fo.closed)\n",
        "print (\"Opening mode : \", fo.mode)\n"
      ],
      "execution_count": null,
      "outputs": [
        {
          "output_type": "stream",
          "name": "stdout",
          "text": [
            "Name of the file:  cse7sem.txt\n",
            "Closed or not :  False\n",
            "Opening mode :  wb\n"
          ]
        }
      ]
    },
    {
      "cell_type": "code",
      "metadata": {
        "colab": {
          "base_uri": "https://localhost:8080/"
        },
        "id": "I-d3vjJzCb9y",
        "outputId": "0bb43e72-2f87-46cf-dd2c-691b0a61197f"
      },
      "source": [
        "f = open(\"cse7sem1.txt\", \"a\")\n",
        "f.write(\"kalyan\")\n",
        "f.close()\n",
        "\n",
        "#open and read the file after the appending:\n",
        "f = open(\"cse7sem1.txt\", \"r\")\n",
        "print(f.read()) "
      ],
      "execution_count": null,
      "outputs": [
        {
          "output_type": "stream",
          "name": "stdout",
          "text": [
            "kalyan\n"
          ]
        }
      ]
    },
    {
      "cell_type": "code",
      "metadata": {
        "colab": {
          "base_uri": "https://localhost:8080/"
        },
        "id": "1HACAh4WCos7",
        "outputId": "65c99a18-af95-4931-ff2e-26c3352dff51"
      },
      "source": [
        "# Open a file\n",
        "fo = open(\"cse7sem1.txt\", \"r+\")\n",
        "\n",
        "str = fo.read(10)\n",
        "print (\"Read String is : \", str) #shabnamsha---output\n",
        "\n",
        "# Check current position\n",
        "position = fo.tell()\n",
        "print (\"Current file position : \", position)\n",
        "\n",
        "# Reposition pointer at the beginning once again\n",
        "position = fo.seek(1, 0);\n",
        "str = fo.read(7)\n",
        "print (\"Again read String is : \", str)\n",
        "\n",
        "ptr=fo.seek(0,1)\n",
        "str1=fo.read(3)\n",
        "print(\"my new string= \", str1)\n",
        "\n",
        "# Close opened file\n",
        "fo.close()"
      ],
      "execution_count": null,
      "outputs": [
        {
          "output_type": "stream",
          "name": "stdout",
          "text": [
            "Read String is :  kalyan\n",
            "Current file position :  6\n",
            "Again read String is :  alyan\n",
            "my new string=  \n"
          ]
        }
      ]
    }
  ]
}