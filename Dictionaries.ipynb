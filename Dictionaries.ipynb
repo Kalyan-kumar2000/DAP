{
  "nbformat": 4,
  "nbformat_minor": 5,
  "metadata": {
    "kernelspec": {
      "display_name": "Python 3",
      "language": "python",
      "name": "python3"
    },
    "language_info": {
      "codemirror_mode": {
        "name": "ipython",
        "version": 3
      },
      "file_extension": ".py",
      "mimetype": "text/x-python",
      "name": "python",
      "nbconvert_exporter": "python",
      "pygments_lexer": "ipython3",
      "version": "3.8.8"
    },
    "colab": {
      "name": "Dictionaries.ipynb",
      "provenance": [],
      "collapsed_sections": [],
      "include_colab_link": true
    }
  },
  "cells": [
    {
      "cell_type": "markdown",
      "metadata": {
        "id": "view-in-github",
        "colab_type": "text"
      },
      "source": [
        "<a href=\"https://colab.research.google.com/github/Kalyan-kumar2000/DAP/blob/main/Dictionaries.ipynb\" target=\"_parent\"><img src=\"https://colab.research.google.com/assets/colab-badge.svg\" alt=\"Open In Colab\"/></a>"
      ]
    },
    {
      "cell_type": "code",
      "metadata": {
        "id": "f9e29d38",
        "outputId": "74df2ecd-0e8b-4340-bc42-8fecb53e8116"
      },
      "source": [
        "dict={'name':'shabnam','designation':'AsP','qual':'phd','univ':'cmr'}\n",
        "print(dict['name'])\n",
        "\n",
        "\n",
        "print(dict['qual'])"
      ],
      "id": "f9e29d38",
      "execution_count": null,
      "outputs": [
        {
          "name": "stdout",
          "output_type": "stream",
          "text": [
            "shabnam\n",
            "phd\n"
          ]
        }
      ]
    },
    {
      "cell_type": "code",
      "metadata": {
        "id": "dae64caa",
        "outputId": "5d30c341-6e94-4d79-8036-926c99a876b4"
      },
      "source": [
        "dict={'name':'shabnam','designation':'AsP','qual':'phd','univ':'cmr'}\n",
        "\n",
        "dict['name']='sharma'\n",
        "\n",
        "print(dict['name'])\n",
        "\n",
        "dict['class']='cse7sem'\n",
        "\n",
        "print(dict['class'])\n",
        "\n"
      ],
      "id": "dae64caa",
      "execution_count": null,
      "outputs": [
        {
          "name": "stdout",
          "output_type": "stream",
          "text": [
            "sharma\n",
            "cse7sem\n"
          ]
        }
      ]
    },
    {
      "cell_type": "code",
      "metadata": {
        "id": "a812e5e4"
      },
      "source": [
        "dict={'name':'shabnam','designation':'AsP','qual':'phd','univ':'cmr'}\n",
        "\n",
        "\n",
        "del dict['designation']\n",
        "\n",
        "#print(dict['designation'])\n",
        "\n",
        "dict.clear()\n",
        "\n",
        "#print(dict['name'])\n",
        "\n",
        "del dict"
      ],
      "id": "a812e5e4",
      "execution_count": null,
      "outputs": []
    },
    {
      "cell_type": "code",
      "metadata": {
        "id": "fd8f8734",
        "outputId": "2b3aa6ea-0b66-42b6-ce14-c96e8ec1c105"
      },
      "source": [
        "dict={'name':'shabnam','designation':'AsP','qual':'phd','univ':'cmr', 'name':'Nishitha'}\n",
        "\n",
        "\n",
        "print(dict['name'])\n",
        "\n",
        "print(len(dict))"
      ],
      "id": "fd8f8734",
      "execution_count": null,
      "outputs": [
        {
          "name": "stdout",
          "output_type": "stream",
          "text": [
            "Nishitha\n",
            "4\n"
          ]
        }
      ]
    },
    {
      "cell_type": "code",
      "metadata": {
        "id": "7a9cf5ae",
        "outputId": "6d9e2592-d60e-4763-b587-9ae36740c2f8"
      },
      "source": [
        "dict={'name':'shabnam','designation':'AsP','qual':'phd','univ':'cmr', 'name':'Nishitha'}\n",
        "\n",
        "\n",
        "print(dict.values())\n",
        "\n",
        "print(dict.items())\n",
        "\n",
        "print(dict.keys())"
      ],
      "id": "7a9cf5ae",
      "execution_count": null,
      "outputs": [
        {
          "name": "stdout",
          "output_type": "stream",
          "text": [
            "dict_values(['Nishitha', 'AsP', 'phd', 'cmr'])\n",
            "dict_items([('name', 'Nishitha'), ('designation', 'AsP'), ('qual', 'phd'), ('univ', 'cmr')])\n",
            "dict_keys(['name', 'designation', 'qual', 'univ'])\n"
          ]
        }
      ]
    },
    {
      "cell_type": "code",
      "metadata": {
        "id": "2842e9db",
        "outputId": "df94db13-315d-47f1-8654-fab7c9344324"
      },
      "source": [
        "dict={'name':'shabnam','designation':'AsP','qual':'phd','univ':'cmr', 'name':'Nishitha'}\n",
        "\n",
        "\n",
        "print(dict['name'])\n",
        "\n",
        "print(dict.get('edu',\"nothing\"))\n",
        "\n",
        "\n"
      ],
      "id": "2842e9db",
      "execution_count": null,
      "outputs": [
        {
          "name": "stdout",
          "output_type": "stream",
          "text": [
            "Nishitha\n",
            "nothing\n"
          ]
        }
      ]
    },
    {
      "cell_type": "code",
      "metadata": {
        "id": "243dda29",
        "outputId": "677c66d3-2c5d-4164-8163-89397f7f0aab"
      },
      "source": [
        "dict={'name':'shabnam','designation':'AsP','qual':'phd','univ':'cmr', 'name':'Nishitha'}\n",
        "\n",
        "\n",
        "dict2=dict.copy()\n",
        "\n",
        "print(dict2['name'])\n",
        "\n",
        "print(len(dict2))"
      ],
      "id": "243dda29",
      "execution_count": null,
      "outputs": [
        {
          "name": "stdout",
          "output_type": "stream",
          "text": [
            "Nishitha\n",
            "4\n"
          ]
        }
      ]
    },
    {
      "cell_type": "code",
      "metadata": {
        "id": "6a57403b",
        "outputId": "a6b109d8-596b-4e83-e2b7-8b099133392d"
      },
      "source": [
        "dict={'name':'shabnam','designation':'AsP','qual':'phd','univ':'cmr', 'name':'Nishitha'}\n",
        "\n",
        "\n",
        "dict2={'edu':'btech-mtech','students':'7sem'}\n",
        "\n",
        "print(dict)\n",
        "print(dict2)\n",
        "\n",
        "dict.update(dict2)\n",
        "\n",
        "print(dict)"
      ],
      "id": "6a57403b",
      "execution_count": null,
      "outputs": [
        {
          "name": "stdout",
          "output_type": "stream",
          "text": [
            "{'name': 'Nishitha', 'designation': 'AsP', 'qual': 'phd', 'univ': 'cmr'}\n",
            "{'edu': 'btech-mtech', 'students': '7sem'}\n",
            "{'name': 'Nishitha', 'designation': 'AsP', 'qual': 'phd', 'univ': 'cmr', 'edu': 'btech-mtech', 'students': '7sem'}\n"
          ]
        }
      ]
    },
    {
      "cell_type": "code",
      "metadata": {
        "id": "4e542941"
      },
      "source": [
        ""
      ],
      "id": "4e542941",
      "execution_count": null,
      "outputs": []
    }
  ]
}