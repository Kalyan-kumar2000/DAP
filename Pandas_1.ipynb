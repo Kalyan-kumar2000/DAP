{
  "nbformat": 4,
  "nbformat_minor": 5,
  "metadata": {
    "kernelspec": {
      "display_name": "Python 3",
      "language": "python",
      "name": "python3"
    },
    "language_info": {
      "codemirror_mode": {
        "name": "ipython",
        "version": 3
      },
      "file_extension": ".py",
      "mimetype": "text/x-python",
      "name": "python",
      "nbconvert_exporter": "python",
      "pygments_lexer": "ipython3",
      "version": "3.8.8"
    },
    "colab": {
      "name": "Pandas-1.ipynb",
      "provenance": [],
      "collapsed_sections": [],
      "include_colab_link": true
    }
  },
  "cells": [
    {
      "cell_type": "markdown",
      "metadata": {
        "id": "view-in-github",
        "colab_type": "text"
      },
      "source": [
        "<a href=\"https://colab.research.google.com/github/Kalyan-kumar2000/DAP/blob/main/Pandas_1.ipynb\" target=\"_parent\"><img src=\"https://colab.research.google.com/assets/colab-badge.svg\" alt=\"Open In Colab\"/></a>"
      ]
    },
    {
      "cell_type": "code",
      "metadata": {
        "id": "636defc4",
        "outputId": "3a02c101-4553-4eee-c42d-208cb9d8b6f2"
      },
      "source": [
        "import pandas as pd\n",
        "import numpy as np\n",
        "\n",
        "#Create a series with 100 random numbers\n",
        "s = pd.Series(np.random.randn(4))\n",
        "print (s)"
      ],
      "id": "636defc4",
      "execution_count": null,
      "outputs": [
        {
          "name": "stdout",
          "output_type": "stream",
          "text": [
            "0    0.640962\n",
            "1    0.448861\n",
            "2    0.765249\n",
            "3   -0.058867\n",
            "dtype: float64\n"
          ]
        }
      ]
    },
    {
      "cell_type": "code",
      "metadata": {
        "id": "016d0aaa",
        "outputId": "8c475a95-f0b3-48e3-db35-7c729bf3c583"
      },
      "source": [
        "import pandas as pd\n",
        "import numpy as np\n",
        "\n",
        "#Create a series with 100 random numbers\n",
        "s = pd.Series(np.random.randn(4))\n",
        "print (\"The axes are:\")\n",
        "print (s.axes)"
      ],
      "id": "016d0aaa",
      "execution_count": null,
      "outputs": [
        {
          "name": "stdout",
          "output_type": "stream",
          "text": [
            "The axes are:\n",
            "[RangeIndex(start=0, stop=4, step=1)]\n"
          ]
        }
      ]
    },
    {
      "cell_type": "code",
      "metadata": {
        "id": "866beb7b",
        "outputId": "0aa5e8ee-057d-4aa7-9920-30bc041acc01"
      },
      "source": [
        "import pandas as pd\n",
        "import numpy as np\n",
        "\n",
        "#Create a series with 100 random numbers\n",
        "s = pd.Series(np.random.randn(4))\n",
        "print (\"Is the Object empty?\")\n",
        "print (s.empty)"
      ],
      "id": "866beb7b",
      "execution_count": null,
      "outputs": [
        {
          "name": "stdout",
          "output_type": "stream",
          "text": [
            "Is the Object empty?\n",
            "False\n"
          ]
        }
      ]
    },
    {
      "cell_type": "code",
      "metadata": {
        "id": "5906b21b",
        "outputId": "8237ee26-e28f-46bd-805e-af6c564cca1a"
      },
      "source": [
        "import pandas as pd\n",
        "import numpy as np\n",
        "\n",
        "#Create a series with 4 random numbers\n",
        "s = pd.Series(np.random.randn(4))\n",
        "print (s)\n",
        "\n",
        "print (\"The dimensions of the object:\")\n",
        "print (s.ndim)"
      ],
      "id": "5906b21b",
      "execution_count": null,
      "outputs": [
        {
          "name": "stdout",
          "output_type": "stream",
          "text": [
            "0   -0.043565\n",
            "1    0.139736\n",
            "2   -0.033096\n",
            "3   -0.470011\n",
            "dtype: float64\n",
            "The dimensions of the object:\n",
            "1\n"
          ]
        }
      ]
    },
    {
      "cell_type": "code",
      "metadata": {
        "id": "a3244c38",
        "outputId": "10cd2477-0faf-4adc-dd20-f6ba7fb2926d"
      },
      "source": [
        "import pandas as pd\n",
        "import numpy as np\n",
        "\n",
        "#Create a series with 4 random numbers\n",
        "s = pd.Series(np.random.randn(2))\n",
        "print (s)\n",
        "print (\"The size of the object:\")\n",
        "print (s.size)"
      ],
      "id": "a3244c38",
      "execution_count": null,
      "outputs": [
        {
          "name": "stdout",
          "output_type": "stream",
          "text": [
            "0   -0.915215\n",
            "1    0.250136\n",
            "dtype: float64\n",
            "The size of the object:\n",
            "2\n"
          ]
        }
      ]
    },
    {
      "cell_type": "code",
      "metadata": {
        "id": "65b35323",
        "outputId": "bf66a811-612a-4aa2-dfac-eb41ce6ec9f9"
      },
      "source": [
        "import pandas as pd\n",
        "import numpy as np\n",
        "\n",
        "#Create a series with 4 random numbers\n",
        "s = pd.Series(np.random.randn(4))\n",
        "print (s)\n",
        "\n",
        "print (\"The actual data series is:\")\n",
        "print (s.values)"
      ],
      "id": "65b35323",
      "execution_count": null,
      "outputs": [
        {
          "name": "stdout",
          "output_type": "stream",
          "text": [
            "0    0.140421\n",
            "1   -1.173498\n",
            "2    1.355218\n",
            "3   -0.133246\n",
            "dtype: float64\n",
            "The actual data series is:\n",
            "[ 0.14042064 -1.17349845  1.35521819 -0.13324604]\n"
          ]
        }
      ]
    },
    {
      "cell_type": "code",
      "metadata": {
        "id": "7bbc8cb8",
        "outputId": "4d115b19-e720-4ebf-bfa3-f7408a6efc9f"
      },
      "source": [
        "import pandas as pd\n",
        "import numpy as np\n",
        "\n",
        "#Create a series with 4 random numbers\n",
        "s = pd.Series(np.random.randn(4))\n",
        "print (\"The original series is:\")\n",
        "print (s)\n",
        "\n",
        "print (\"The first two rows of the data series:\")\n",
        "print (s.head(2))"
      ],
      "id": "7bbc8cb8",
      "execution_count": null,
      "outputs": [
        {
          "name": "stdout",
          "output_type": "stream",
          "text": [
            "The original series is:\n",
            "0   -0.572345\n",
            "1    1.143168\n",
            "2    0.547497\n",
            "3   -0.486110\n",
            "dtype: float64\n",
            "The first two rows of the data series:\n",
            "0   -0.572345\n",
            "1    1.143168\n",
            "dtype: float64\n"
          ]
        }
      ]
    },
    {
      "cell_type": "code",
      "metadata": {
        "id": "fd4f9722",
        "outputId": "ab0001c7-7ef8-483d-980f-fe8d8a008363"
      },
      "source": [
        "import pandas as pd\n",
        "import numpy as np\n",
        "\n",
        "#Create a series with 4 random numbers\n",
        "s = pd.Series(np.random.randn(4))\n",
        "print (\"The original series is:\")\n",
        "print (s)\n",
        "\n",
        "print (\"The last two rows of the data series:\")\n",
        "print (s.tail(2))"
      ],
      "id": "fd4f9722",
      "execution_count": null,
      "outputs": [
        {
          "name": "stdout",
          "output_type": "stream",
          "text": [
            "The original series is:\n",
            "0   -1.097691\n",
            "1   -0.436543\n",
            "2   -0.535559\n",
            "3   -0.938054\n",
            "dtype: float64\n",
            "The last two rows of the data series:\n",
            "2   -0.535559\n",
            "3   -0.938054\n",
            "dtype: float64\n"
          ]
        }
      ]
    },
    {
      "cell_type": "code",
      "metadata": {
        "id": "18eda3f8",
        "outputId": "4f5707ff-286b-4912-d4b8-3882ccabf8a8"
      },
      "source": [
        "import pandas as pd\n",
        "import numpy as np\n",
        "\n",
        "#Create a Dictionary of series\n",
        "d = {'Name':pd.Series(['Tom','James','Ricky','Vin','Steve','Smith','Jack']),\n",
        "   'Age':pd.Series([25,26,25,23,30,29,23]),\n",
        "   'Rating':pd.Series([4.23,3.24,3.98,2.56,3.20,4.6,3.8])}\n",
        "\n",
        "#Create a DataFrame\n",
        "df = pd.DataFrame(d)\n",
        "print (\"Our data series is:\")\n",
        "print (df)"
      ],
      "id": "18eda3f8",
      "execution_count": null,
      "outputs": [
        {
          "name": "stdout",
          "output_type": "stream",
          "text": [
            "Our data series is:\n",
            "    Name  Age  Rating\n",
            "0    Tom   25    4.23\n",
            "1  James   26    3.24\n",
            "2  Ricky   25    3.98\n",
            "3    Vin   23    2.56\n",
            "4  Steve   30    3.20\n",
            "5  Smith   29    4.60\n",
            "6   Jack   23    3.80\n"
          ]
        }
      ]
    },
    {
      "cell_type": "code",
      "metadata": {
        "id": "84f65f27",
        "outputId": "e4677bdd-05e9-47db-b198-4d94c9160133"
      },
      "source": [
        "import pandas as pd\n",
        "import numpy as np\n",
        " \n",
        "# Create a Dictionary of series\n",
        "d = {'Name':pd.Series(['Tom','James','Ricky','Vin','Steve','Smith','Jack']),\n",
        "   'Age':pd.Series([25,26,25,23,30,29,23]),\n",
        "   'Rating':pd.Series([4.23,3.24,3.98,2.56,3.20,4.6,3.8])}\n",
        "\n",
        "# Create a DataFrame\n",
        "df = pd.DataFrame(d)\n",
        "print (\"The transpose of the data series is:\")\n",
        "print (df.T)"
      ],
      "id": "84f65f27",
      "execution_count": null,
      "outputs": [
        {
          "name": "stdout",
          "output_type": "stream",
          "text": [
            "The transpose of the data series is:\n",
            "           0      1      2     3      4      5     6\n",
            "Name     Tom  James  Ricky   Vin  Steve  Smith  Jack\n",
            "Age       25     26     25    23     30     29    23\n",
            "Rating  4.23   3.24   3.98  2.56    3.2    4.6   3.8\n"
          ]
        }
      ]
    },
    {
      "cell_type": "code",
      "metadata": {
        "id": "ea7561ea",
        "outputId": "c1a1b893-be5e-4fd4-c44c-57b210de54b4"
      },
      "source": [
        "import pandas as pd\n",
        "import numpy as np\n",
        "\n",
        "#Create a Dictionary of series\n",
        "d = {'Name':pd.Series(['Tom','James','Ricky','Vin','Steve','Smith','Jack']),\n",
        "   'Age':pd.Series([25,26,25,23,30,29,23]),\n",
        "   'Rating':pd.Series([4.23,3.24,3.98,2.56,3.20,4.6,3.8])}\n",
        "\n",
        "#Create a DataFrame\n",
        "df = pd.DataFrame(d)\n",
        "print (\"Row axis labels and column axis labels are:\")\n",
        "print (df.axes)"
      ],
      "id": "ea7561ea",
      "execution_count": null,
      "outputs": [
        {
          "name": "stdout",
          "output_type": "stream",
          "text": [
            "Row axis labels and column axis labels are:\n",
            "[RangeIndex(start=0, stop=7, step=1), Index(['Name', 'Age', 'Rating'], dtype='object')]\n"
          ]
        }
      ]
    },
    {
      "cell_type": "code",
      "metadata": {
        "id": "11e0f0bd",
        "outputId": "eea7ea4c-521d-4b1e-e3a1-9799060fd9e5"
      },
      "source": [
        "import pandas as pd\n",
        "import numpy as np\n",
        "\n",
        "#Create a Dictionary of series\n",
        "d = {'Name':pd.Series(['Tom','James','Ricky','Vin','Steve','Smith','Jack']),\n",
        "   'Age':pd.Series([25,26,25,23,30,29,23]),\n",
        "   'Rating':pd.Series([4.23,3.24,3.98,2.56,3.20,4.6,3.8])}\n",
        "\n",
        "#Create a DataFrame\n",
        "df = pd.DataFrame(d)\n",
        "print (\"The data types of each column are:\")\n",
        "print (df.dtypes)"
      ],
      "id": "11e0f0bd",
      "execution_count": null,
      "outputs": [
        {
          "name": "stdout",
          "output_type": "stream",
          "text": [
            "The data types of each column are:\n",
            "Name       object\n",
            "Age         int64\n",
            "Rating    float64\n",
            "dtype: object\n"
          ]
        }
      ]
    },
    {
      "cell_type": "code",
      "metadata": {
        "id": "ccdf0ac4",
        "outputId": "219bfc0d-666f-45eb-a60b-f32a934b6dc1"
      },
      "source": [
        "import pandas as pd\n",
        "import numpy as np\n",
        " \n",
        "#Create a Dictionary of series\n",
        "d = {'Name':pd.Series(['Tom','James','Ricky','Vin','Steve','Smith','Jack']),\n",
        "   'Age':pd.Series([25,26,25,23,30,29,23]),\n",
        "   'Rating':pd.Series([4.23,3.24,3.98,2.56,3.20,4.6,3.8])}\n",
        " \n",
        "#Create a DataFrame\n",
        "df = pd.DataFrame(d)\n",
        "print (\"Is the object empty?\")\n",
        "print (df.empty)"
      ],
      "id": "ccdf0ac4",
      "execution_count": null,
      "outputs": [
        {
          "name": "stdout",
          "output_type": "stream",
          "text": [
            "Is the object empty?\n",
            "False\n"
          ]
        }
      ]
    },
    {
      "cell_type": "code",
      "metadata": {
        "id": "1a2fb63a",
        "outputId": "b0b68801-399a-4fcf-f1c9-e50bf7a2d0e5"
      },
      "source": [
        "#ndim-Returns the number of dimensions of the object. By definition, DataFrame is a 2D object.\n",
        "\n",
        "import pandas as pd\n",
        "import numpy as np\n",
        "\n",
        "#Create a Dictionary of series\n",
        "d = {'Name':pd.Series(['Tom','James','Ricky','Vin','Steve','Smith','Jack']),\n",
        "   'Age':pd.Series([25,26,25,23,30,29,23]),\n",
        "   'Rating':pd.Series([4.23,3.24,3.98,2.56,3.20,4.6,3.8])}\n",
        "\n",
        "#Create a DataFrame\n",
        "df = pd.DataFrame(d)\n",
        "print (\"Our object is:\")\n",
        "print (df)\n",
        "print (\"The dimension of the object is:\")\n",
        "print (df.ndim)"
      ],
      "id": "1a2fb63a",
      "execution_count": null,
      "outputs": [
        {
          "name": "stdout",
          "output_type": "stream",
          "text": [
            "Our object is:\n",
            "    Name  Age  Rating\n",
            "0    Tom   25    4.23\n",
            "1  James   26    3.24\n",
            "2  Ricky   25    3.98\n",
            "3    Vin   23    2.56\n",
            "4  Steve   30    3.20\n",
            "5  Smith   29    4.60\n",
            "6   Jack   23    3.80\n",
            "The dimension of the object is:\n",
            "2\n"
          ]
        }
      ]
    },
    {
      "cell_type": "code",
      "metadata": {
        "id": "c5c1079b",
        "outputId": "ebc6a9fb-b587-4c72-a062-7de9b5fa7dec"
      },
      "source": [
        "import pandas as pd\n",
        "import numpy as np\n",
        " \n",
        "#Create a Dictionary of series\n",
        "d = {'Name':pd.Series(['Tom','James','Ricky','Vin','Steve','Smith','Jack']),\n",
        "   'Age':pd.Series([25,26,25,23,30,29,23]),\n",
        "   'Rating':pd.Series([4.23,3.24,3.98,2.56,3.20,4.6,3.8])}\n",
        " \n",
        "#Create a DataFrame\n",
        "df = pd.DataFrame(d)\n",
        "print (\"Our object is:\")\n",
        "print (df)\n",
        "print (\"The shape of the object is:\")\n",
        "print (df.shape)"
      ],
      "id": "c5c1079b",
      "execution_count": null,
      "outputs": [
        {
          "name": "stdout",
          "output_type": "stream",
          "text": [
            "Our object is:\n",
            "    Name  Age  Rating\n",
            "0    Tom   25    4.23\n",
            "1  James   26    3.24\n",
            "2  Ricky   25    3.98\n",
            "3    Vin   23    2.56\n",
            "4  Steve   30    3.20\n",
            "5  Smith   29    4.60\n",
            "6   Jack   23    3.80\n",
            "The shape of the object is:\n",
            "(7, 3)\n"
          ]
        }
      ]
    },
    {
      "cell_type": "code",
      "metadata": {
        "id": "6948553c",
        "outputId": "4bfb90f1-6daf-438a-c032-c98d1dd1628e"
      },
      "source": [
        "import pandas as pd\n",
        "import numpy as np\n",
        " \n",
        "#Create a Dictionary of series\n",
        "d = {'Name':pd.Series(['Tom','James','Ricky','Vin','Steve','Smith','Jack']),\n",
        "   'Age':pd.Series([25,26,25,23,30,29,23]),\n",
        "   'Rating':pd.Series([4.23,3.24,3.98,2.56,3.20,4.6,3.8])}\n",
        " \n",
        "#Create a DataFrame\n",
        "df = pd.DataFrame(d)\n",
        "print (\"Our object is:\")\n",
        "print (df)\n",
        "print (\"The total number of elements in our object is:\")\n",
        "print (df.size)"
      ],
      "id": "6948553c",
      "execution_count": null,
      "outputs": [
        {
          "name": "stdout",
          "output_type": "stream",
          "text": [
            "Our object is:\n",
            "    Name  Age  Rating\n",
            "0    Tom   25    4.23\n",
            "1  James   26    3.24\n",
            "2  Ricky   25    3.98\n",
            "3    Vin   23    2.56\n",
            "4  Steve   30    3.20\n",
            "5  Smith   29    4.60\n",
            "6   Jack   23    3.80\n",
            "The total number of elements in our object is:\n",
            "21\n"
          ]
        }
      ]
    },
    {
      "cell_type": "code",
      "metadata": {
        "id": "578284a6",
        "outputId": "8be30bd6-fd46-4da4-e45e-834e1678337c"
      },
      "source": [
        "import pandas as pd\n",
        "import numpy as np\n",
        " \n",
        "#Create a Dictionary of series\n",
        "d = {'Name':pd.Series(['Tom','James','Ricky','Vin','Steve','Smith','Jack']),\n",
        "   'Age':pd.Series([25,26,25,23,30,29,23]),\n",
        "   'Rating':pd.Series([4.23,3.24,3.98,2.56,3.20,4.6,3.8])}\n",
        " \n",
        "#Create a DataFrame\n",
        "df = pd.DataFrame(d)\n",
        "print (\"Our object is:\")\n",
        "print (df)\n",
        "print (\"The actual data in our data frame is:\")\n",
        "print (df.values)"
      ],
      "id": "578284a6",
      "execution_count": null,
      "outputs": [
        {
          "name": "stdout",
          "output_type": "stream",
          "text": [
            "Our object is:\n",
            "    Name  Age  Rating\n",
            "0    Tom   25    4.23\n",
            "1  James   26    3.24\n",
            "2  Ricky   25    3.98\n",
            "3    Vin   23    2.56\n",
            "4  Steve   30    3.20\n",
            "5  Smith   29    4.60\n",
            "6   Jack   23    3.80\n",
            "The actual data in our data frame is:\n",
            "[['Tom' 25 4.23]\n",
            " ['James' 26 3.24]\n",
            " ['Ricky' 25 3.98]\n",
            " ['Vin' 23 2.56]\n",
            " ['Steve' 30 3.2]\n",
            " ['Smith' 29 4.6]\n",
            " ['Jack' 23 3.8]]\n"
          ]
        }
      ]
    },
    {
      "cell_type": "code",
      "metadata": {
        "id": "bacb768b",
        "outputId": "29fabf73-3c27-4e3d-c389-db441b2b58a0"
      },
      "source": [
        "import pandas as pd\n",
        "import numpy as np\n",
        " \n",
        "#Create a Dictionary of series\n",
        "d = {'Name':pd.Series(['Tom','James','Ricky','Vin','Steve','Smith','Jack']),\n",
        "   'Age':pd.Series([25,26,25,23,30,29,23]),\n",
        "   'Rating':pd.Series([4.23,3.24,3.98,2.56,3.20,4.6,3.8])}\n",
        "\n",
        "#Create a DataFrame\n",
        "df = pd.DataFrame(d)\n",
        "print (\"Our data frame is:\")\n",
        "print (df)\n",
        "print (\"The first two rows of the data frame is:\")\n",
        "print (df.head(3))\n",
        "print(\"default head values\")\n",
        "print (df.head())"
      ],
      "id": "bacb768b",
      "execution_count": null,
      "outputs": [
        {
          "name": "stdout",
          "output_type": "stream",
          "text": [
            "Our data frame is:\n",
            "    Name  Age  Rating\n",
            "0    Tom   25    4.23\n",
            "1  James   26    3.24\n",
            "2  Ricky   25    3.98\n",
            "3    Vin   23    2.56\n",
            "4  Steve   30    3.20\n",
            "5  Smith   29    4.60\n",
            "6   Jack   23    3.80\n",
            "The first two rows of the data frame is:\n",
            "    Name  Age  Rating\n",
            "0    Tom   25    4.23\n",
            "1  James   26    3.24\n",
            "2  Ricky   25    3.98\n",
            "default head values\n",
            "    Name  Age  Rating\n",
            "0    Tom   25    4.23\n",
            "1  James   26    3.24\n",
            "2  Ricky   25    3.98\n",
            "3    Vin   23    2.56\n",
            "4  Steve   30    3.20\n"
          ]
        }
      ]
    },
    {
      "cell_type": "code",
      "metadata": {
        "id": "1fb4d762",
        "outputId": "a26f1ad4-d27b-43d1-bc86-bf45370346a5"
      },
      "source": [
        "import pandas as pd\n",
        "import numpy as np\n",
        "\n",
        "#Create a Dictionary of series\n",
        "d = {'Name':pd.Series(['Tom','James','Ricky','Vin','Steve','Smith','Jack']),\n",
        "   'Age':pd.Series([25,26,25,23,30,29,23]), \n",
        "   'Rating':pd.Series([4.23,3.24,3.98,2.56,3.20,4.6,3.8])}\n",
        " \n",
        "#Create a DataFrame\n",
        "df = pd.DataFrame(d)\n",
        "print (\"Our data frame is:\")\n",
        "print (df)\n",
        "print (\"The last two rows of the data frame is:\")\n",
        "print (df.tail(2))"
      ],
      "id": "1fb4d762",
      "execution_count": null,
      "outputs": [
        {
          "name": "stdout",
          "output_type": "stream",
          "text": [
            "Our data frame is:\n",
            "    Name  Age  Rating\n",
            "0    Tom   25    4.23\n",
            "1  James   26    3.24\n",
            "2  Ricky   25    3.98\n",
            "3    Vin   23    2.56\n",
            "4  Steve   30    3.20\n",
            "5  Smith   29    4.60\n",
            "6   Jack   23    3.80\n",
            "The last two rows of the data frame is:\n",
            "    Name  Age  Rating\n",
            "5  Smith   29     4.6\n",
            "6   Jack   23     3.8\n"
          ]
        }
      ]
    },
    {
      "cell_type": "code",
      "metadata": {
        "id": "74c76493"
      },
      "source": [
        ""
      ],
      "id": "74c76493",
      "execution_count": null,
      "outputs": []
    }
  ]
}