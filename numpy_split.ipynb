{
  "nbformat": 4,
  "nbformat_minor": 5,
  "metadata": {
    "kernelspec": {
      "display_name": "Python 3",
      "language": "python",
      "name": "python3"
    },
    "language_info": {
      "codemirror_mode": {
        "name": "ipython",
        "version": 3
      },
      "file_extension": ".py",
      "mimetype": "text/x-python",
      "name": "python",
      "nbconvert_exporter": "python",
      "pygments_lexer": "ipython3",
      "version": "3.8.8"
    },
    "colab": {
      "name": "numpy split.ipynb",
      "provenance": [],
      "collapsed_sections": [],
      "include_colab_link": true
    }
  },
  "cells": [
    {
      "cell_type": "markdown",
      "metadata": {
        "id": "view-in-github",
        "colab_type": "text"
      },
      "source": [
        "<a href=\"https://colab.research.google.com/github/Kalyan-kumar2000/DAP/blob/main/numpy_split.ipynb\" target=\"_parent\"><img src=\"https://colab.research.google.com/assets/colab-badge.svg\" alt=\"Open In Colab\"/></a>"
      ]
    },
    {
      "cell_type": "code",
      "metadata": {
        "id": "8040e8fb",
        "outputId": "009c7cf7-e134-4526-8e00-96a7a3a6e04c"
      },
      "source": [
        "import numpy as np\n",
        "\n",
        "arr = np.array([1, 2, 3, 4, 5, 6])\n",
        "\n",
        "newarr = np.array_split(arr, 3)\n",
        "\n",
        "print(newarr) "
      ],
      "id": "8040e8fb",
      "execution_count": null,
      "outputs": [
        {
          "name": "stdout",
          "output_type": "stream",
          "text": [
            "[array([1, 2]), array([3, 4]), array([5, 6])]\n"
          ]
        }
      ]
    },
    {
      "cell_type": "code",
      "metadata": {
        "id": "3a892dcd",
        "outputId": "289f057c-bb9a-4bc3-d4e5-4eeef5494cfe"
      },
      "source": [
        "import numpy as np\n",
        "\n",
        "arr = np.array([1, 2, 3, 4, 5, 6])\n",
        "\n",
        "newarr = np.array_split(arr, 4)\n",
        "\n",
        "nn= np.split(arr, 4)\n",
        "\n",
        "print(newarr) "
      ],
      "id": "3a892dcd",
      "execution_count": null,
      "outputs": [
        {
          "ename": "ValueError",
          "evalue": "array split does not result in an equal division",
          "output_type": "error",
          "traceback": [
            "\u001b[1;31m---------------------------------------------------------------------------\u001b[0m",
            "\u001b[1;31mValueError\u001b[0m                                Traceback (most recent call last)",
            "\u001b[1;32m<ipython-input-5-40c8a51b330c>\u001b[0m in \u001b[0;36m<module>\u001b[1;34m\u001b[0m\n\u001b[0;32m      5\u001b[0m \u001b[0mnewarr\u001b[0m \u001b[1;33m=\u001b[0m \u001b[0mnp\u001b[0m\u001b[1;33m.\u001b[0m\u001b[0marray_split\u001b[0m\u001b[1;33m(\u001b[0m\u001b[0marr\u001b[0m\u001b[1;33m,\u001b[0m \u001b[1;36m4\u001b[0m\u001b[1;33m)\u001b[0m\u001b[1;33m\u001b[0m\u001b[1;33m\u001b[0m\u001b[0m\n\u001b[0;32m      6\u001b[0m \u001b[1;33m\u001b[0m\u001b[0m\n\u001b[1;32m----> 7\u001b[1;33m \u001b[0mnn\u001b[0m\u001b[1;33m=\u001b[0m \u001b[0mnp\u001b[0m\u001b[1;33m.\u001b[0m\u001b[0msplit\u001b[0m\u001b[1;33m(\u001b[0m\u001b[0marr\u001b[0m\u001b[1;33m,\u001b[0m \u001b[1;36m4\u001b[0m\u001b[1;33m)\u001b[0m\u001b[1;33m\u001b[0m\u001b[1;33m\u001b[0m\u001b[0m\n\u001b[0m\u001b[0;32m      8\u001b[0m \u001b[1;33m\u001b[0m\u001b[0m\n\u001b[0;32m      9\u001b[0m \u001b[0mprint\u001b[0m\u001b[1;33m(\u001b[0m\u001b[0mnewarr\u001b[0m\u001b[1;33m)\u001b[0m\u001b[1;33m\u001b[0m\u001b[1;33m\u001b[0m\u001b[0m\n",
            "\u001b[1;32m<__array_function__ internals>\u001b[0m in \u001b[0;36msplit\u001b[1;34m(*args, **kwargs)\u001b[0m\n",
            "\u001b[1;32m~\\anaconda3\\lib\\site-packages\\numpy\\lib\\shape_base.py\u001b[0m in \u001b[0;36msplit\u001b[1;34m(ary, indices_or_sections, axis)\u001b[0m\n\u001b[0;32m    870\u001b[0m         \u001b[0mN\u001b[0m \u001b[1;33m=\u001b[0m \u001b[0mary\u001b[0m\u001b[1;33m.\u001b[0m\u001b[0mshape\u001b[0m\u001b[1;33m[\u001b[0m\u001b[0maxis\u001b[0m\u001b[1;33m]\u001b[0m\u001b[1;33m\u001b[0m\u001b[1;33m\u001b[0m\u001b[0m\n\u001b[0;32m    871\u001b[0m         \u001b[1;32mif\u001b[0m \u001b[0mN\u001b[0m \u001b[1;33m%\u001b[0m \u001b[0msections\u001b[0m\u001b[1;33m:\u001b[0m\u001b[1;33m\u001b[0m\u001b[1;33m\u001b[0m\u001b[0m\n\u001b[1;32m--> 872\u001b[1;33m             raise ValueError(\n\u001b[0m\u001b[0;32m    873\u001b[0m                 'array split does not result in an equal division') from None\n\u001b[0;32m    874\u001b[0m     \u001b[1;32mreturn\u001b[0m \u001b[0marray_split\u001b[0m\u001b[1;33m(\u001b[0m\u001b[0mary\u001b[0m\u001b[1;33m,\u001b[0m \u001b[0mindices_or_sections\u001b[0m\u001b[1;33m,\u001b[0m \u001b[0maxis\u001b[0m\u001b[1;33m)\u001b[0m\u001b[1;33m\u001b[0m\u001b[1;33m\u001b[0m\u001b[0m\n",
            "\u001b[1;31mValueError\u001b[0m: array split does not result in an equal division"
          ]
        }
      ]
    },
    {
      "cell_type": "code",
      "metadata": {
        "id": "a45b3ddb",
        "outputId": "b188883f-88cb-47af-98b8-8dfffe17ef24"
      },
      "source": [
        "import numpy as np\n",
        "\n",
        "arr = np.array([1, 2, 3, 4, 5, 6])\n",
        "\n",
        "newarr = np.array_split(arr, 3)\n",
        "\n",
        "print(newarr[0])\n",
        "print(newarr[1])\n",
        "print(newarr[2]) "
      ],
      "id": "a45b3ddb",
      "execution_count": null,
      "outputs": [
        {
          "name": "stdout",
          "output_type": "stream",
          "text": [
            "[1 2]\n",
            "[3 4]\n",
            "[5 6]\n"
          ]
        }
      ]
    },
    {
      "cell_type": "code",
      "metadata": {
        "id": "eb19cab1",
        "outputId": "b36f6283-d197-4c66-db00-ef8306d9d70b"
      },
      "source": [
        "import numpy as np\n",
        "\n",
        "arr = np.array([[1, 2], [3, 4], [5, 6], [7, 8], [9, 10], [11, 12]])\n",
        "\n",
        "newarr = np.array_split(arr, 3)\n",
        "print(\"\\n\")\n",
        "print(newarr[0])\n",
        "print(\"\\n\")\n",
        "print(newarr[1])\n",
        "print(\"\\n\")\n",
        "print(newarr[2]) "
      ],
      "id": "eb19cab1",
      "execution_count": null,
      "outputs": [
        {
          "name": "stdout",
          "output_type": "stream",
          "text": [
            "\n",
            "\n",
            "[[1 2]\n",
            " [3 4]]\n",
            "\n",
            "\n",
            "[[5 6]\n",
            " [7 8]]\n",
            "\n",
            "\n",
            "[[ 9 10]\n",
            " [11 12]]\n"
          ]
        }
      ]
    },
    {
      "cell_type": "code",
      "metadata": {
        "id": "858ff391",
        "outputId": "428ba7e1-940b-4476-9321-00eae44cb745"
      },
      "source": [
        "import numpy as np\n",
        "\n",
        "arr = np.array([[1, 2], [3, 4], [5, 6], [7, 8], [9, 10], [11, 12]])\n",
        "\n",
        "newarr = np.array_split(arr, 4)\n",
        "print(\"\\n\")\n",
        "print(newarr[0])\n",
        "print(\"\\n\")\n",
        "print(newarr[1])\n",
        "print(\"\\n\")\n",
        "print(newarr[2])"
      ],
      "id": "858ff391",
      "execution_count": null,
      "outputs": [
        {
          "name": "stdout",
          "output_type": "stream",
          "text": [
            "\n",
            "\n",
            "[[1 2]\n",
            " [3 4]]\n",
            "\n",
            "\n",
            "[[5 6]\n",
            " [7 8]]\n",
            "\n",
            "\n",
            "[[ 9 10]]\n"
          ]
        }
      ]
    },
    {
      "cell_type": "code",
      "metadata": {
        "id": "bfbaa53d",
        "outputId": "ea82660c-5378-475b-ce7a-8bf390059124"
      },
      "source": [
        "import numpy as np\n",
        "\n",
        "arr = np.array([[1, 2, 3], [4, 5, 6], [7, 8, 9], [10, 11, 12], [13, 14, 15], [16, 17, 18]])\n",
        "\n",
        "newarr = np.array_split(arr, 3)\n",
        "\n",
        "print(\"\\n\")\n",
        "print(newarr[0])\n",
        "print(\"\\n\")\n",
        "print(newarr[1])\n",
        "print(\"\\n\")\n",
        "print(newarr[2])"
      ],
      "id": "bfbaa53d",
      "execution_count": null,
      "outputs": [
        {
          "name": "stdout",
          "output_type": "stream",
          "text": [
            "\n",
            "\n",
            "[[1 2 3]\n",
            " [4 5 6]]\n",
            "\n",
            "\n",
            "[[ 7  8  9]\n",
            " [10 11 12]]\n",
            "\n",
            "\n",
            "[[13 14 15]\n",
            " [16 17 18]]\n"
          ]
        }
      ]
    },
    {
      "cell_type": "code",
      "metadata": {
        "id": "561dd380",
        "outputId": "b77e5c23-dd4e-4d48-b936-18894c27c161"
      },
      "source": [
        "import numpy as np\n",
        "\n",
        "arr = np.array([[1, 2, 3], [4, 5, 6], [7, 8, 9], [10, 11, 12], [13, 14, 15], [16, 17, 18]])\n",
        "\n",
        "newarr = np.array_split(arr, 3, axis=1)\n",
        "\n",
        "print(\"\\n\")\n",
        "print(newarr[0])\n",
        "print(\"\\n\")\n",
        "print(newarr[1])\n",
        "print(\"\\n\")\n",
        "print(newarr[2])"
      ],
      "id": "561dd380",
      "execution_count": null,
      "outputs": [
        {
          "name": "stdout",
          "output_type": "stream",
          "text": [
            "\n",
            "\n",
            "[[ 1]\n",
            " [ 4]\n",
            " [ 7]\n",
            " [10]\n",
            " [13]\n",
            " [16]]\n",
            "\n",
            "\n",
            "[[ 2]\n",
            " [ 5]\n",
            " [ 8]\n",
            " [11]\n",
            " [14]\n",
            " [17]]\n",
            "\n",
            "\n",
            "[[ 3]\n",
            " [ 6]\n",
            " [ 9]\n",
            " [12]\n",
            " [15]\n",
            " [18]]\n"
          ]
        }
      ]
    },
    {
      "cell_type": "code",
      "metadata": {
        "id": "898c55e0",
        "outputId": "05d492c3-435e-40f1-d6f1-4363248ab839"
      },
      "source": [
        "import numpy as np\n",
        "\n",
        "arr = np.array([[1, 2, 3], [4, 5, 6], [7, 8, 9], [10, 11, 12], [13, 14, 15], [16, 17, 18]])\n",
        "\n",
        "newarr = np.hsplit(arr, 3)\n",
        "print(\"\\n\")\n",
        "print(newarr[0])\n",
        "print(\"\\n\")\n",
        "print(newarr[1])\n",
        "print(\"\\n\")\n",
        "print(newarr[2])"
      ],
      "id": "898c55e0",
      "execution_count": null,
      "outputs": [
        {
          "name": "stdout",
          "output_type": "stream",
          "text": [
            "\n",
            "\n",
            "[[ 1]\n",
            " [ 4]\n",
            " [ 7]\n",
            " [10]\n",
            " [13]\n",
            " [16]]\n",
            "\n",
            "\n",
            "[[ 2]\n",
            " [ 5]\n",
            " [ 8]\n",
            " [11]\n",
            " [14]\n",
            " [17]]\n",
            "\n",
            "\n",
            "[[ 3]\n",
            " [ 6]\n",
            " [ 9]\n",
            " [12]\n",
            " [15]\n",
            " [18]]\n"
          ]
        }
      ]
    },
    {
      "cell_type": "code",
      "metadata": {
        "id": "462a29a8",
        "outputId": "dfb9e6af-94b3-4f48-d111-db270b24a151"
      },
      "source": [
        "import numpy as np\n",
        "\n",
        "arr = np.array([[1, 2, 3], [4, 5, 6], [7, 8, 9], [10, 11, 12], [13, 14, 15], [16, 17, 18]])\n",
        "\n",
        "newarr = np.vsplit(arr, 3)\n",
        "print(\"\\n\")\n",
        "print(newarr[0])\n",
        "print(\"\\n\")\n",
        "print(newarr[1])\n",
        "print(\"\\n\")\n",
        "print(newarr[2])"
      ],
      "id": "462a29a8",
      "execution_count": null,
      "outputs": [
        {
          "name": "stdout",
          "output_type": "stream",
          "text": [
            "\n",
            "\n",
            "[[1 2 3]\n",
            " [4 5 6]]\n",
            "\n",
            "\n",
            "[[ 7  8  9]\n",
            " [10 11 12]]\n",
            "\n",
            "\n",
            "[[13 14 15]\n",
            " [16 17 18]]\n"
          ]
        }
      ]
    },
    {
      "cell_type": "code",
      "metadata": {
        "id": "cf4abe91"
      },
      "source": [
        ""
      ],
      "id": "cf4abe91",
      "execution_count": null,
      "outputs": []
    }
  ]
}