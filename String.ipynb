{
  "nbformat": 4,
  "nbformat_minor": 5,
  "metadata": {
    "kernelspec": {
      "display_name": "Python 3",
      "language": "python",
      "name": "python3"
    },
    "language_info": {
      "codemirror_mode": {
        "name": "ipython",
        "version": 3
      },
      "file_extension": ".py",
      "mimetype": "text/x-python",
      "name": "python",
      "nbconvert_exporter": "python",
      "pygments_lexer": "ipython3",
      "version": "3.8.8"
    },
    "colab": {
      "name": "String.ipynb",
      "provenance": [],
      "collapsed_sections": [],
      "include_colab_link": true
    }
  },
  "cells": [
    {
      "cell_type": "markdown",
      "metadata": {
        "id": "view-in-github",
        "colab_type": "text"
      },
      "source": [
        "<a href=\"https://colab.research.google.com/github/Kalyan-kumar2000/DAP/blob/main/String.ipynb\" target=\"_parent\"><img src=\"https://colab.research.google.com/assets/colab-badge.svg\" alt=\"Open In Colab\"/></a>"
      ]
    },
    {
      "cell_type": "code",
      "metadata": {
        "id": "639477ba",
        "outputId": "182d6406-bb9f-4a01-fe91-645b0b7aa5a4"
      },
      "source": [
        "var1 = 'Hello World!'\n",
        "var2 = \"Python Programming\"\n",
        "print(var1,\" \",var2)"
      ],
      "id": "639477ba",
      "execution_count": null,
      "outputs": [
        {
          "name": "stdout",
          "output_type": "stream",
          "text": [
            "Hello World!   Python Programming\n"
          ]
        }
      ]
    },
    {
      "cell_type": "code",
      "metadata": {
        "id": "08c2f75a",
        "outputId": "863e9801-49dd-4a9f-ab3c-cece23c13d0b"
      },
      "source": [
        "var1 = 'Hello World!'\n",
        "var2 = \"Python Programming\"\n",
        "\n",
        "print (var1[0])\n",
        "\n",
        "\n",
        "\n",
        "print (var2[1:5])"
      ],
      "id": "08c2f75a",
      "execution_count": null,
      "outputs": [
        {
          "name": "stdout",
          "output_type": "stream",
          "text": [
            "H\n",
            "ytho\n"
          ]
        }
      ]
    },
    {
      "cell_type": "code",
      "metadata": {
        "id": "2a3bb715",
        "outputId": "7b59b0f0-d81e-45b3-bcd3-8c0517cb7025"
      },
      "source": [
        "var1 = 'Hello World!'\n",
        "print (\"Updated String :- \", var1[0:6] + 'Shabnam')"
      ],
      "id": "2a3bb715",
      "execution_count": null,
      "outputs": [
        {
          "name": "stdout",
          "output_type": "stream",
          "text": [
            "Updated String :-  Hello Shabnam\n"
          ]
        }
      ]
    },
    {
      "cell_type": "code",
      "metadata": {
        "id": "5a9795e9",
        "outputId": "6c012830-c35e-408a-efd0-61d3a363c294"
      },
      "source": [
        "str1 = input(\"Please Enter Your Own String : \")\n",
        "\n",
        "str2 = str1\n",
        "str3 = str1[:]\n",
        "str4 = str1[2:6]\n",
        "\n",
        "print(\"The Final String : Str2  = \", str2)\n",
        "print(\"The Final String : Str3  = = \", str3)\n",
        "print(\"The Final String : Str4  = = \", str4)"
      ],
      "id": "5a9795e9",
      "execution_count": null,
      "outputs": [
        {
          "name": "stdout",
          "output_type": "stream",
          "text": [
            "Please Enter Your Own String : hello class\n",
            "The Final String : Str2  =  hello class\n",
            "The Final String : Str3  = =  hello class\n",
            "The Final String : Str4  = =  llo \n"
          ]
        }
      ]
    },
    {
      "cell_type": "code",
      "metadata": {
        "id": "e78fecfd",
        "outputId": "0f05ec8d-c4f6-4caf-af6c-1dd80f752a04"
      },
      "source": [
        "#Python String capitalize() method returns a copy of the string with only its first character capitalized.\n",
        "str = \"this is string example....wow!!!\";\n",
        "print (\"str.capitalize() : \", str.capitalize())"
      ],
      "id": "e78fecfd",
      "execution_count": null,
      "outputs": [
        {
          "name": "stdout",
          "output_type": "stream",
          "text": [
            "str.capitalize() :  This is string example....wow!!!\n"
          ]
        }
      ]
    },
    {
      "cell_type": "code",
      "metadata": {
        "id": "e3e0d875",
        "outputId": "9fa01774-b7cb-42df-a906-8a52bb3502be"
      },
      "source": [
        "#center() returns centered in a string of length width. Padding is done using the specified fillchar. Default filler is a space.\n",
        "\n",
        "\n",
        "str = \"this is string example....wow!!!\"\n",
        "print (\"str.center(40, 'a') : \", str.center(40, '*'))"
      ],
      "id": "e3e0d875",
      "execution_count": null,
      "outputs": [
        {
          "name": "stdout",
          "output_type": "stream",
          "text": [
            "str.center(40, 'a') :  ****this is string example....wow!!!****\n"
          ]
        }
      ]
    },
    {
      "cell_type": "code",
      "metadata": {
        "id": "09638a80",
        "outputId": "696bea8a-2a8d-4ede-93fc-13bc8234ba2b"
      },
      "source": [
        "#count() returns the number of occurrences of substring sub in the range [start, end]. \n",
        "\n",
        "#str.count(sub, start= 0,end=len(string))\n",
        "\n",
        "str = \"this is string example....wow!!!\";\n",
        "\n",
        "sub = \"i\";\n",
        "print (\"str.count(sub, 4, 40) : \", str.count(sub, 4, 40))\n",
        "sub = \"wow\";\n",
        "print (\"str.count(sub) : \", str.count(sub))"
      ],
      "id": "09638a80",
      "execution_count": null,
      "outputs": [
        {
          "name": "stdout",
          "output_type": "stream",
          "text": [
            "str.count(sub, 4, 40) :  2\n",
            "str.count(sub) :  1\n"
          ]
        }
      ]
    },
    {
      "cell_type": "code",
      "metadata": {
        "id": "ab509538",
        "outputId": "c542d9a1-e616-4b83-e44d-bb144f3bf48f"
      },
      "source": [
        "#find() determines if string str occurs in string, or in a substring of string if starting index beg and ending index end are given.\n",
        "\n",
        "#str.find(str, beg=0, end=len(string))\n",
        "\n",
        "str1 = \"this is string example....wow!!!\";\n",
        "str2 = \"is\";\n",
        "\n",
        "print (str1.find(str2))\n",
        "print (str1.find(str2, 10))\n",
        "print (str1.find(str2, 40))"
      ],
      "id": "ab509538",
      "execution_count": null,
      "outputs": [
        {
          "name": "stdout",
          "output_type": "stream",
          "text": [
            "2\n",
            "-1\n",
            "-1\n"
          ]
        }
      ]
    },
    {
      "cell_type": "code",
      "metadata": {
        "id": "280f1fb5",
        "outputId": "6d490582-eff6-4125-cf61-aa95bb148156"
      },
      "source": [
        "#index() determines if string str occurs in string or in a substring of string if starting index beg and ending index end are given.\n",
        "\n",
        "str1 = \"this is string example....wow!!!\";\n",
        "str2 = \"exam\";\n",
        "\n",
        "print (str1.index(str2))\n",
        "print (str1.index(str2, 10,32))\n"
      ],
      "id": "280f1fb5",
      "execution_count": null,
      "outputs": [
        {
          "name": "stdout",
          "output_type": "stream",
          "text": [
            "15\n",
            "15\n"
          ]
        }
      ]
    },
    {
      "cell_type": "code",
      "metadata": {
        "id": "3185da7c",
        "outputId": "ffd5bccd-cb32-49aa-9adf-64c24c817319"
      },
      "source": [
        "#isalnum() checks whether the string consists of alphanumeric characters.\n",
        "\n",
        "str = \"this2009\";  # No space in this string\n",
        "print (str.isalnum())\n",
        "\n",
        "str = \"this is string example....wow!!!\";\n",
        "print (str.isalnum())"
      ],
      "id": "3185da7c",
      "execution_count": null,
      "outputs": [
        {
          "name": "stdout",
          "output_type": "stream",
          "text": [
            "True\n",
            "False\n"
          ]
        }
      ]
    },
    {
      "cell_type": "code",
      "metadata": {
        "id": "c1d5f159",
        "outputId": "03cbadfa-4277-43d4-9aba-e84b9371a8a7"
      },
      "source": [
        "str = \"ShabnamSharma\";  # No space & digit in this string\n",
        "print (str.isalpha())\n",
        "\n",
        "str = \"this is string example....wow!!!\";\n",
        "print (str.isalpha())"
      ],
      "id": "c1d5f159",
      "execution_count": null,
      "outputs": [
        {
          "name": "stdout",
          "output_type": "stream",
          "text": [
            "True\n",
            "False\n"
          ]
        }
      ]
    },
    {
      "cell_type": "code",
      "metadata": {
        "id": "2446680f",
        "outputId": "87009a3a-cd56-4eb6-e259-10d71c93b415"
      },
      "source": [
        "str = \"123456\";  # Only digit in this string\n",
        "print (str.isdigit())\n",
        "\n",
        "str = \"this is string example....wow!!!\";\n",
        "print (str.isdigit())"
      ],
      "id": "2446680f",
      "execution_count": null,
      "outputs": [
        {
          "name": "stdout",
          "output_type": "stream",
          "text": [
            "True\n",
            "False\n"
          ]
        }
      ]
    },
    {
      "cell_type": "code",
      "metadata": {
        "scrolled": true,
        "id": "ed8c6da3",
        "outputId": "243b729d-79b2-44ce-bf61-73aff219ef74"
      },
      "source": [
        "str = \"THIS is string example....wow!!!\"; \n",
        "print (str.islower())\n",
        "\n",
        "str = \"this is string example....wow!!!\";\n",
        "print (str.islower())"
      ],
      "id": "ed8c6da3",
      "execution_count": null,
      "outputs": [
        {
          "name": "stdout",
          "output_type": "stream",
          "text": [
            "False\n",
            "True\n"
          ]
        }
      ]
    },
    {
      "cell_type": "code",
      "metadata": {
        "id": "9bad371e",
        "outputId": "5b10ff32-51e8-45e9-a269-39adcebe7b08"
      },
      "source": [
        "str = \"this2009\";  \n",
        "print (str.isnumeric())\n",
        "\n",
        "str = \"23443434\";\n",
        "print (str.isnumeric())"
      ],
      "id": "9bad371e",
      "execution_count": null,
      "outputs": [
        {
          "name": "stdout",
          "output_type": "stream",
          "text": [
            "False\n",
            "True\n"
          ]
        }
      ]
    },
    {
      "cell_type": "code",
      "metadata": {
        "id": "6f8e242a",
        "outputId": "9b5f955b-242a-4848-bc52-4c5ca26ad594"
      },
      "source": [
        "str = \"  \"; \n",
        "print (str.isspace())\n",
        "\n",
        "str = \"This is string example....wow!!!\";\n",
        "print (str.isspace())"
      ],
      "id": "6f8e242a",
      "execution_count": null,
      "outputs": [
        {
          "name": "stdout",
          "output_type": "stream",
          "text": [
            "True\n",
            "False\n"
          ]
        }
      ]
    },
    {
      "cell_type": "code",
      "metadata": {
        "id": "a6c16bc6",
        "outputId": "f42813fd-3dd8-4a83-868f-028949ab9012"
      },
      "source": [
        "str = \"This Is String Example...Wow!!!\";\n",
        "print (str.istitle())\n",
        "\n",
        "str = \"This is string example....wow!!!\";\n",
        "print (str.istitle())"
      ],
      "id": "a6c16bc6",
      "execution_count": null,
      "outputs": [
        {
          "name": "stdout",
          "output_type": "stream",
          "text": [
            "True\n",
            "False\n"
          ]
        }
      ]
    },
    {
      "cell_type": "code",
      "metadata": {
        "id": "e2390df2",
        "outputId": "b94f92fe-8477-4d02-b5db-236fc5d2a261"
      },
      "source": [
        "\n",
        "str = \"THIS IS STRING EXAMPLE....WOW!!!\"; \n",
        "print (str.isupper())\n",
        "\n",
        "str = \"THIS is string example....wow!!!\";\n",
        "print (str.isupper())"
      ],
      "id": "e2390df2",
      "execution_count": null,
      "outputs": [
        {
          "name": "stdout",
          "output_type": "stream",
          "text": [
            "True\n",
            "False\n"
          ]
        }
      ]
    },
    {
      "cell_type": "code",
      "metadata": {
        "id": "1af7db5c",
        "outputId": "dd4d568e-d5cd-4fe2-b130-87a9f5b2ac5c"
      },
      "source": [
        "#join() returns a string in which the string elements of sequence have been joined by str separator.\n",
        "\n",
        "s = \"  *  *  \";\n",
        "seq = (\"abc\", \"bttt\", \"cqweqe\"); # This is sequence of strings.\n",
        "print (s.join( seq ))"
      ],
      "id": "1af7db5c",
      "execution_count": null,
      "outputs": [
        {
          "name": "stdout",
          "output_type": "stream",
          "text": [
            "abc  *  *  bttt  *  *  cqweqe\n"
          ]
        }
      ]
    },
    {
      "cell_type": "code",
      "metadata": {
        "id": "355a2d7c",
        "outputId": "ae3edda2-af04-4828-a437-ed7d6fbe6b85"
      },
      "source": [
        "str = \"this is string example....wow!!!\";\n",
        "print (\"Length of the string: \", len(str))"
      ],
      "id": "355a2d7c",
      "execution_count": null,
      "outputs": [
        {
          "name": "stdout",
          "output_type": "stream",
          "text": [
            "Length of the string:  32\n"
          ]
        }
      ]
    },
    {
      "cell_type": "code",
      "metadata": {
        "id": "5cc3dcbb",
        "outputId": "efaf41e3-1cde-4972-c807-6e990de1c0bf"
      },
      "source": [
        "#lstrip() returns a copy of the string in which all chars have been stripped from the beginning of the string (default whitespace characters)\n",
        "\n",
        "str = \"     this is string example....wow!!!     \";\n",
        "print (str.lstrip())\n",
        "str = \"88888888this is string example....wow!!!999999\";\n",
        "print (str.lstrip('8'))\n",
        "print (str.rstrip('9'))\n",
        "\n",
        "\n"
      ],
      "id": "5cc3dcbb",
      "execution_count": null,
      "outputs": [
        {
          "name": "stdout",
          "output_type": "stream",
          "text": [
            "this is string example....wow!!!     \n",
            "this is string example....wow!!!999999\n",
            "88888888this is string example....wow!!!\n"
          ]
        }
      ]
    },
    {
      "cell_type": "code",
      "metadata": {
        "id": "8fecbd1e",
        "outputId": "aa4f1de1-0096-4d40-d9ab-e783e8797d75"
      },
      "source": [
        "str = \"THIS IS STRING EXAMPLE....WOW!!!\";\n",
        "print (str.lower())"
      ],
      "id": "8fecbd1e",
      "execution_count": null,
      "outputs": [
        {
          "name": "stdout",
          "output_type": "stream",
          "text": [
            "this is string example....wow!!!\n"
          ]
        }
      ]
    },
    {
      "cell_type": "code",
      "metadata": {
        "id": "525011b2",
        "outputId": "0d2a1cfc-935d-4c32-d6c2-21eddcfff519"
      },
      "source": [
        "#returns largest character\n",
        "str = \"check....wow!!!\";\n",
        "print (\"Max character: \" + max(str))\n",
        "\n",
        "str = \"shabnam....!!!\";\n",
        "print (\"Max character: \" + max(str))"
      ],
      "id": "525011b2",
      "execution_count": null,
      "outputs": [
        {
          "name": "stdout",
          "output_type": "stream",
          "text": [
            "Max character: w\n",
            "Max character: s\n"
          ]
        }
      ]
    },
    {
      "cell_type": "code",
      "metadata": {
        "id": "527b32f4",
        "outputId": "69c14381-d8ff-464f-f26e-268116c582db"
      },
      "source": [
        "str = \"this-is-real-string-example....wow!!!\";\n",
        "print (\"Min character: \" + min(str))\n",
        "\n",
        "str = \"this-is-a-string-example....wow!!!\";\n",
        "print (\"Min character: \" + min(str))"
      ],
      "id": "527b32f4",
      "execution_count": null,
      "outputs": [
        {
          "name": "stdout",
          "output_type": "stream",
          "text": [
            "Min character: !\n",
            "Min character: !\n"
          ]
        }
      ]
    },
    {
      "cell_type": "code",
      "metadata": {
        "id": "720b1d77",
        "outputId": "2a697b55-c523-4a55-b380-4310756f5616"
      },
      "source": [
        "#str.replace(old, new[, max])\n",
        "\n",
        "str = \"this is string example....wow!!! this is really string\"\n",
        "print (str.replace(\"is\", \"was\"))\n",
        "print (str.replace(\"is\", \"was\", 3))"
      ],
      "id": "720b1d77",
      "execution_count": null,
      "outputs": [
        {
          "name": "stdout",
          "output_type": "stream",
          "text": [
            "thwas was string example....wow!!! thwas was really string\n",
            "thwas was string example....wow!!! thwas is really string\n"
          ]
        }
      ]
    },
    {
      "cell_type": "code",
      "metadata": {
        "id": "22b8a873",
        "outputId": "8b21f34a-1ab8-4bf9-efef-1a3655c75006"
      },
      "source": [
        "str = \"this is string example....wow!!!\";\n",
        "print (str.startswith( 'this' ))\n",
        "print (str.startswith( 'is', 2, 4 ))\n",
        "print (str.startswith( 'this', 2, 4 ))"
      ],
      "id": "22b8a873",
      "execution_count": null,
      "outputs": [
        {
          "name": "stdout",
          "output_type": "stream",
          "text": [
            "True\n",
            "True\n",
            "False\n"
          ]
        }
      ]
    },
    {
      "cell_type": "code",
      "metadata": {
        "id": "be5dc6d3",
        "outputId": "5dcdc6b0-a087-4edc-945b-a30e70283283"
      },
      "source": [
        "str = \"this is string example....wow!!!\";\n",
        "print (\"str.capitalize() : \", str.upper())"
      ],
      "id": "be5dc6d3",
      "execution_count": null,
      "outputs": [
        {
          "name": "stdout",
          "output_type": "stream",
          "text": [
            "str.capitalize() :  THIS IS STRING EXAMPLE....WOW!!!\n"
          ]
        }
      ]
    },
    {
      "cell_type": "code",
      "metadata": {
        "id": "fff92a6e",
        "outputId": "125632f9-4262-4d5e-ba71-77fc02443bc8"
      },
      "source": [
        "str = \"this is string example....wow!!!\";\n",
        "print (str.swapcase())\n",
        "\n",
        "str = \"THIS IS STRING EXAMPLE....WOW!!!\";\n",
        "print (str.swapcase())"
      ],
      "id": "fff92a6e",
      "execution_count": null,
      "outputs": [
        {
          "name": "stdout",
          "output_type": "stream",
          "text": [
            "THIS IS STRING EXAMPLE....WOW!!!\n",
            "this is string example....wow!!!\n"
          ]
        }
      ]
    },
    {
      "cell_type": "code",
      "metadata": {
        "id": "24cc3914"
      },
      "source": [
        ""
      ],
      "id": "24cc3914",
      "execution_count": null,
      "outputs": []
    },
    {
      "cell_type": "code",
      "metadata": {
        "id": "db06d76a"
      },
      "source": [
        ""
      ],
      "id": "db06d76a",
      "execution_count": null,
      "outputs": []
    }
  ]
}