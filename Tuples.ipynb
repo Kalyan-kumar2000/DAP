{
  "nbformat": 4,
  "nbformat_minor": 5,
  "metadata": {
    "kernelspec": {
      "display_name": "Python 3",
      "language": "python",
      "name": "python3"
    },
    "language_info": {
      "codemirror_mode": {
        "name": "ipython",
        "version": 3
      },
      "file_extension": ".py",
      "mimetype": "text/x-python",
      "name": "python",
      "nbconvert_exporter": "python",
      "pygments_lexer": "ipython3",
      "version": "3.8.8"
    },
    "colab": {
      "name": "Tuples.ipynb",
      "provenance": [],
      "collapsed_sections": [],
      "include_colab_link": true
    }
  },
  "cells": [
    {
      "cell_type": "markdown",
      "metadata": {
        "id": "view-in-github",
        "colab_type": "text"
      },
      "source": [
        "<a href=\"https://colab.research.google.com/github/Kalyan-kumar2000/DAP/blob/main/Tuples.ipynb\" target=\"_parent\"><img src=\"https://colab.research.google.com/assets/colab-badge.svg\" alt=\"Open In Colab\"/></a>"
      ]
    },
    {
      "cell_type": "code",
      "metadata": {
        "id": "424b5b94",
        "colab": {
          "base_uri": "https://localhost:8080/"
        },
        "outputId": "04894e6a-f13e-4804-d47f-c4ffc88a3bb5"
      },
      "source": [
        "tup= ('cse','it','mech')\n",
        "print(tup)\n",
        "tup1=(1,23,4,5,5,6)\n",
        "print(tup1)\n",
        "tup2=\"abc\",\"def\"\n",
        "print(tup2)"
      ],
      "id": "424b5b94",
      "execution_count": null,
      "outputs": [
        {
          "output_type": "stream",
          "name": "stdout",
          "text": [
            "('cse', 'it', 'mech')\n",
            "(1, 23, 4, 5, 5, 6)\n",
            "('abc', 'def')\n"
          ]
        }
      ]
    },
    {
      "cell_type": "code",
      "metadata": {
        "id": "debde1a5",
        "colab": {
          "base_uri": "https://localhost:8080/"
        },
        "outputId": "07507fdc-c4d2-462d-fc57-f752cec1f052"
      },
      "source": [
        "tup1 = ()\n",
        "print(tup1)"
      ],
      "id": "debde1a5",
      "execution_count": null,
      "outputs": [
        {
          "output_type": "stream",
          "name": "stdout",
          "text": [
            "()\n"
          ]
        }
      ]
    },
    {
      "cell_type": "code",
      "metadata": {
        "id": "74286d0d",
        "colab": {
          "base_uri": "https://localhost:8080/"
        },
        "outputId": "69766620-ffcb-4e2d-a41f-6391f04724f7"
      },
      "source": [
        "tup1 = (24)\n",
        "print(tup1)"
      ],
      "id": "74286d0d",
      "execution_count": null,
      "outputs": [
        {
          "output_type": "stream",
          "name": "stdout",
          "text": [
            "24\n"
          ]
        }
      ]
    },
    {
      "cell_type": "code",
      "metadata": {
        "id": "a79a5606",
        "outputId": "4623834a-0908-4493-b123-901f02fc2d8c"
      },
      "source": [
        "tup= ('cse','it','mech','ece','electrical')\n",
        "print(tup[0])\n",
        "print(tup[2])\n",
        "print(tup[2:5])"
      ],
      "id": "a79a5606",
      "execution_count": null,
      "outputs": [
        {
          "name": "stdout",
          "output_type": "stream",
          "text": [
            "cse\n",
            "mech\n",
            "('mech', 'ece', 'electrical')\n"
          ]
        }
      ]
    },
    {
      "cell_type": "code",
      "metadata": {
        "id": "21292bd1",
        "colab": {
          "base_uri": "https://localhost:8080/"
        },
        "outputId": "898aae27-2cd2-4222-b784-4a985015fc64"
      },
      "source": [
        "tup1= ('cse','it','mech','ece','electrical')\n",
        "print(tup1)\n",
        "\n",
        "del(tup1)\n",
        "print(tup2)"
      ],
      "id": "21292bd1",
      "execution_count": null,
      "outputs": [
        {
          "output_type": "stream",
          "name": "stdout",
          "text": [
            "('cse', 'it', 'mech', 'ece', 'electrical')\n",
            "('abc', 'def')\n"
          ]
        }
      ]
    },
    {
      "cell_type": "code",
      "metadata": {
        "id": "10d1afee",
        "colab": {
          "base_uri": "https://localhost:8080/"
        },
        "outputId": "88182f35-bafb-4ae9-bfd1-aba59430836a"
      },
      "source": [
        "tup1= ('cse','it','mech','ece','electrical')\n",
        "print(tup1)\n",
        "tup2= ('kalyan','kumar','reddy')\n",
        "print(tup2)\n",
        "\n",
        "\n",
        "tup3=tup1+tup2\n",
        "print(tup3)"
      ],
      "id": "10d1afee",
      "execution_count": null,
      "outputs": [
        {
          "output_type": "stream",
          "name": "stdout",
          "text": [
            "('cse', 'it', 'mech', 'ece', 'electrical')\n",
            "('kalyan', 'kumar', 'reddy')\n",
            "('cse', 'it', 'mech', 'ece', 'electrical', 'kalyan', 'kumar', 'reddy')\n"
          ]
        }
      ]
    },
    {
      "cell_type": "code",
      "metadata": {
        "id": "90cb299f",
        "colab": {
          "base_uri": "https://localhost:8080/"
        },
        "outputId": "a4274b68-6a09-4e03-8566-9a79ee5d8ec6"
      },
      "source": [
        "tup1= ('cse','it','mech','ece','electrical')\n",
        "print(tup1)\n",
        "tup2= ('kalyan','kumar','reddy')\n",
        "print(tup2)\n",
        "a=len(tup1)\n",
        "b=len(tup2)\n",
        "print(a)\n",
        "print(b)\n",
        "\n",
        "print(len(tup1))\n"
      ],
      "id": "90cb299f",
      "execution_count": null,
      "outputs": [
        {
          "output_type": "stream",
          "name": "stdout",
          "text": [
            "('cse', 'it', 'mech', 'ece', 'electrical')\n",
            "('kalyan', 'kumar', 'reddy')\n",
            "5\n",
            "3\n",
            "5\n"
          ]
        }
      ]
    },
    {
      "cell_type": "code",
      "metadata": {
        "id": "fd3c1496",
        "colab": {
          "base_uri": "https://localhost:8080/"
        },
        "outputId": "25030fef-81b3-49f2-96e6-1eb9a5f51289"
      },
      "source": [
        "tup1= ('cse','it','mech','ece','electrical')\n",
        "print(tup1)\n",
        "tup2= ('kalyan','kuamr','reddy')\n",
        "print(tup2)\n",
        "\n",
        "\n",
        "print(max(tup1))"
      ],
      "id": "fd3c1496",
      "execution_count": null,
      "outputs": [
        {
          "output_type": "stream",
          "name": "stdout",
          "text": [
            "('cse', 'it', 'mech', 'ece', 'electrical')\n",
            "('kalyan', 'kuamr', 'reddy')\n",
            "mech\n"
          ]
        }
      ]
    },
    {
      "cell_type": "code",
      "metadata": {
        "id": "80ef4447"
      },
      "source": [
        ""
      ],
      "id": "80ef4447",
      "execution_count": null,
      "outputs": []
    }
  ]
}