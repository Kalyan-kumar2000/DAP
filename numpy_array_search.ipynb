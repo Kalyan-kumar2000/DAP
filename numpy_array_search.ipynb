{
  "nbformat": 4,
  "nbformat_minor": 5,
  "metadata": {
    "kernelspec": {
      "display_name": "Python 3",
      "language": "python",
      "name": "python3"
    },
    "language_info": {
      "codemirror_mode": {
        "name": "ipython",
        "version": 3
      },
      "file_extension": ".py",
      "mimetype": "text/x-python",
      "name": "python",
      "nbconvert_exporter": "python",
      "pygments_lexer": "ipython3",
      "version": "3.8.8"
    },
    "colab": {
      "name": "numpy array search.ipynb",
      "provenance": [],
      "collapsed_sections": [],
      "include_colab_link": true
    }
  },
  "cells": [
    {
      "cell_type": "markdown",
      "metadata": {
        "id": "view-in-github",
        "colab_type": "text"
      },
      "source": [
        "<a href=\"https://colab.research.google.com/github/Kalyan-kumar2000/DAP/blob/main/numpy_array_search.ipynb\" target=\"_parent\"><img src=\"https://colab.research.google.com/assets/colab-badge.svg\" alt=\"Open In Colab\"/></a>"
      ]
    },
    {
      "cell_type": "code",
      "metadata": {
        "id": "f85dc9df",
        "outputId": "e02224f0-88f4-40a0-cf00-9af2811b2e4b"
      },
      "source": [
        "import numpy as np\n",
        "\n",
        "arr = np.array([1, 2, 3, 4, 5, 4, 4])\n",
        "\n",
        "x = np.where(arr == 4)\n",
        "\n",
        "print(x) "
      ],
      "id": "f85dc9df",
      "execution_count": null,
      "outputs": [
        {
          "name": "stdout",
          "output_type": "stream",
          "text": [
            "(array([3, 5, 6], dtype=int64),)\n"
          ]
        }
      ]
    },
    {
      "cell_type": "code",
      "metadata": {
        "id": "da13152e",
        "outputId": "c592983e-25c3-4656-dca4-b7429681e974"
      },
      "source": [
        "import numpy as np\n",
        "\n",
        "arr = np.array([1, 2, 3, 4, 5, 6, 7, 8])\n",
        "\n",
        "x = np.where(arr%2 == 0)\n",
        "\n",
        "print(x) "
      ],
      "id": "da13152e",
      "execution_count": null,
      "outputs": [
        {
          "name": "stdout",
          "output_type": "stream",
          "text": [
            "(array([1, 3, 5, 7], dtype=int64),)\n"
          ]
        }
      ]
    },
    {
      "cell_type": "code",
      "metadata": {
        "id": "0a83a0d0",
        "outputId": "233c24fb-1e3f-4c1d-d73a-5035acfc4ea9"
      },
      "source": [
        "import numpy as np\n",
        "\n",
        "arr = np.array([1, 2, 3, 4, 5, 6, 7, 8])\n",
        "\n",
        "x = np.where(arr%2 == 1)\n",
        "\n",
        "print(x) "
      ],
      "id": "0a83a0d0",
      "execution_count": null,
      "outputs": [
        {
          "name": "stdout",
          "output_type": "stream",
          "text": [
            "(array([0, 2, 4, 6], dtype=int64),)\n"
          ]
        }
      ]
    },
    {
      "cell_type": "code",
      "metadata": {
        "id": "a7105684",
        "outputId": "efbd3764-1f87-414f-b3b5-257075a7e729"
      },
      "source": [
        "#The number 7 should be inserted on index 1 to remain the sort order.\n",
        "#The method starts the search from the left and returns the first index where the number 7 is no longer larger than the next value.\n",
        "\n",
        "import numpy as np\n",
        "\n",
        "arr = np.array([6, 7, 18, 19])\n",
        "\n",
        "x = np.searchsorted(arr,11)\n",
        "\n",
        "print(x) "
      ],
      "id": "a7105684",
      "execution_count": null,
      "outputs": [
        {
          "name": "stdout",
          "output_type": "stream",
          "text": [
            "2\n"
          ]
        }
      ]
    },
    {
      "cell_type": "code",
      "metadata": {
        "id": "fc4fb93a",
        "outputId": "904d7b19-303c-469f-b439-64666d065135"
      },
      "source": [
        "import numpy as np\n",
        "\n",
        "arr = np.array([6, 7, 18, 29])\n",
        "\n",
        "x = np.searchsorted(arr, 19, side='right')\n",
        "\n",
        "print(x) "
      ],
      "id": "fc4fb93a",
      "execution_count": null,
      "outputs": [
        {
          "name": "stdout",
          "output_type": "stream",
          "text": [
            "3\n"
          ]
        }
      ]
    },
    {
      "cell_type": "code",
      "metadata": {
        "id": "dcf91085",
        "outputId": "87a0f990-50f9-42b5-9786-cc59c937b6e8"
      },
      "source": [
        "import numpy as np\n",
        "\n",
        "arr = np.array([1, 3, 5, 7])\n",
        "\n",
        "x = np.searchsorted(arr, [2, 4, 6])\n",
        "\n",
        "print(x) "
      ],
      "id": "dcf91085",
      "execution_count": null,
      "outputs": [
        {
          "name": "stdout",
          "output_type": "stream",
          "text": [
            "[1 2 3]\n"
          ]
        }
      ]
    },
    {
      "cell_type": "code",
      "metadata": {
        "id": "ce0476e6"
      },
      "source": [
        ""
      ],
      "id": "ce0476e6",
      "execution_count": null,
      "outputs": []
    }
  ]
}