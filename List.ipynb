{
  "nbformat": 4,
  "nbformat_minor": 5,
  "metadata": {
    "kernelspec": {
      "display_name": "Python 3",
      "language": "python",
      "name": "python3"
    },
    "language_info": {
      "codemirror_mode": {
        "name": "ipython",
        "version": 3
      },
      "file_extension": ".py",
      "mimetype": "text/x-python",
      "name": "python",
      "nbconvert_exporter": "python",
      "pygments_lexer": "ipython3",
      "version": "3.8.8"
    },
    "colab": {
      "name": "List.ipynb",
      "provenance": [],
      "include_colab_link": true
    }
  },
  "cells": [
    {
      "cell_type": "markdown",
      "metadata": {
        "id": "view-in-github",
        "colab_type": "text"
      },
      "source": [
        "<a href=\"https://colab.research.google.com/github/Kalyan-kumar2000/DAP/blob/main/List.ipynb\" target=\"_parent\"><img src=\"https://colab.research.google.com/assets/colab-badge.svg\" alt=\"Open In Colab\"/></a>"
      ]
    },
    {
      "cell_type": "code",
      "metadata": {
        "id": "a16eb709",
        "colab": {
          "base_uri": "https://localhost:8080/"
        },
        "outputId": "94a9a770-53b9-4e89-bd55-f45205f93c0f"
      },
      "source": [
        "list1 = ['english', 'maths', 2001, 2020];\n",
        "list2 = [1,3,4,2,5,2,4 ];\n",
        "print (\"list1[0]: \", list1[2])\n",
        "print (\"list2[1:5]: \", list2[1:3])"
      ],
      "id": "a16eb709",
      "execution_count": null,
      "outputs": [
        {
          "output_type": "stream",
          "name": "stdout",
          "text": [
            "list1[0]:  2001\n",
            "list2[1:5]:  [3, 4]\n"
          ]
        }
      ]
    },
    {
      "cell_type": "code",
      "metadata": {
        "id": "ba390b9a",
        "colab": {
          "base_uri": "https://localhost:8080/"
        },
        "outputId": "f3331478-9a56-4137-cb7a-7a44ffd509e9"
      },
      "source": [
        "list = ['English', 'hindi', 2020, 1990];\n",
        "print (\"Value available at index 3 : \")\n",
        "print (list[2])\n",
        "list[2] = 2344323;\n",
        "print (\"New value available at index 3: \")\n",
        "print (list[2])"
      ],
      "id": "ba390b9a",
      "execution_count": null,
      "outputs": [
        {
          "output_type": "stream",
          "name": "stdout",
          "text": [
            "Value available at index 3 : \n",
            "2020\n",
            "New value available at index 3: \n",
            "2344323\n"
          ]
        }
      ]
    },
    {
      "cell_type": "code",
      "metadata": {
        "id": "6ec3d58a",
        "colab": {
          "base_uri": "https://localhost:8080/"
        },
        "outputId": "84b4192f-d637-4a61-82f4-55f07a44d5a3"
      },
      "source": [
        "list1 = ['Social', 'maths', 'computers', 2000];\n",
        "print (list1)\n",
        "del (list1[2]);\n",
        "print (\"After deleting value at index 3 :\")\n",
        "print (list1)"
      ],
      "id": "6ec3d58a",
      "execution_count": null,
      "outputs": [
        {
          "output_type": "stream",
          "name": "stdout",
          "text": [
            "['Social', 'maths', 'computers', 2000]\n",
            "After deleting value at index 3 :\n",
            "['Social', 'maths', 2000]\n"
          ]
        }
      ]
    },
    {
      "cell_type": "code",
      "metadata": {
        "id": "3ccf5446",
        "colab": {
          "base_uri": "https://localhost:8080/"
        },
        "outputId": "e26ab317-1881-4717-c9ef-4066b438c746"
      },
      "source": [
        "list1, list2 = ['kumar','345','kalyan'], [345, 'reddy']\n",
        "print (\"First list length : \", len(list1))\n",
        "print (\"Second list length : \", len(list2))"
      ],
      "id": "3ccf5446",
      "execution_count": null,
      "outputs": [
        {
          "output_type": "stream",
          "name": "stdout",
          "text": [
            "First list length :  3\n",
            "Second list length :  2\n"
          ]
        }
      ]
    },
    {
      "cell_type": "code",
      "metadata": {
        "id": "925a2fcc",
        "colab": {
          "base_uri": "https://localhost:8080/"
        },
        "outputId": "f9f1e224-cef5-40ee-cf0c-2d082387262e"
      },
      "source": [
        "aList = ['kalyan', 'kumar', 'reddy'];\n",
        "aList.append( 2019 );\n",
        "print (\"Updated List : \", aList)"
      ],
      "id": "925a2fcc",
      "execution_count": null,
      "outputs": [
        {
          "output_type": "stream",
          "name": "stdout",
          "text": [
            "Updated List :  ['kalyan', 'kumar', 'reddy', 2019]\n"
          ]
        }
      ]
    },
    {
      "cell_type": "code",
      "metadata": {
        "id": "adda2a18",
        "colab": {
          "base_uri": "https://localhost:8080/"
        },
        "outputId": "a2c34493-ce00-422a-cd33-732adbe5ab19"
      },
      "source": [
        "aList = ['kalyan', 'kumar', 'reddy', 234];\n",
        "print (\"Count for xyz : \", aList.count('kalyan'))\n",
        "print (\"Count for zara : \", aList.count('kumar'))"
      ],
      "id": "adda2a18",
      "execution_count": null,
      "outputs": [
        {
          "output_type": "stream",
          "name": "stdout",
          "text": [
            "Count for xyz :  1\n",
            "Count for zara :  1\n"
          ]
        }
      ]
    },
    {
      "cell_type": "code",
      "metadata": {
        "id": "fd2b4e87",
        "colab": {
          "base_uri": "https://localhost:8080/"
        },
        "outputId": "308508bd-dd54-4655-d9cf-42e4b35ae520"
      },
      "source": [
        "aList = [234, 'reddy', 'kalyan', 'kumar', 123];\n",
        "bList = [2009, 'bontha'];\n",
        "aList.extend(bList)\n",
        "print (\"Extended List : \", aList)"
      ],
      "id": "fd2b4e87",
      "execution_count": null,
      "outputs": [
        {
          "output_type": "stream",
          "name": "stdout",
          "text": [
            "Extended List :  [234, 'reddy', 'kalyan', 'kumar', 123, 2009, 'bontha']\n"
          ]
        }
      ]
    },
    {
      "cell_type": "code",
      "metadata": {
        "id": "ce3eff72",
        "colab": {
          "base_uri": "https://localhost:8080/"
        },
        "outputId": "e189d9ba-78b2-416d-bdc3-c39b37b6d381"
      },
      "source": [
        "aList = [123, 'kumar', 'reddy', 'kalyan', 'bontha'];\n",
        "print (\"Index for xyz : \", aList.index( 'kalyan' ) )\n",
        "print (\"Index for zara : \", aList.index( 'reddy' ) )"
      ],
      "id": "ce3eff72",
      "execution_count": null,
      "outputs": [
        {
          "output_type": "stream",
          "name": "stdout",
          "text": [
            "Index for xyz :  3\n",
            "Index for zara :  2\n"
          ]
        }
      ]
    },
    {
      "cell_type": "code",
      "metadata": {
        "id": "9280e780",
        "colab": {
          "base_uri": "https://localhost:8080/"
        },
        "outputId": "3836978e-09a7-4c35-f77f-29f48f8f7529"
      },
      "source": [
        "aList = [123, 'hindi', 'social', 'maths']\n",
        "aList.insert( 2,2000)\n",
        "print (\"Final List : \", aList)"
      ],
      "id": "9280e780",
      "execution_count": null,
      "outputs": [
        {
          "output_type": "stream",
          "name": "stdout",
          "text": [
            "Final List :  [123, 'hindi', 2000, 'social', 'maths']\n"
          ]
        }
      ]
    },
    {
      "cell_type": "code",
      "metadata": {
        "id": "badb489a",
        "colab": {
          "base_uri": "https://localhost:8080/"
        },
        "outputId": "3d88c135-fb35-4322-f84d-ef5647ee6fbe"
      },
      "source": [
        "aList = [123, 'kalyan', 'kumar', 'reddy'];\n",
        "\n",
        "print(aList)\n",
        "\n",
        "print (\"List after popping last element : \", aList.pop())\n",
        "\n",
        "print(aList)\n",
        "\n",
        "print (\"List after popping element from mentioned index: \", aList.pop(2))\n",
        "\n",
        "print(aList)\n",
        "\n",
        "aList.insert(3, 2020)\n",
        "\n",
        "print(aList)"
      ],
      "id": "badb489a",
      "execution_count": null,
      "outputs": [
        {
          "output_type": "stream",
          "name": "stdout",
          "text": [
            "[123, 'kalyan', 'kumar', 'reddy']\n",
            "List after popping last element :  reddy\n",
            "[123, 'kalyan', 'kumar']\n",
            "List after popping element from mentioned index:  kumar\n",
            "[123, 'kalyan']\n",
            "[123, 'kalyan', 2020]\n"
          ]
        }
      ]
    },
    {
      "cell_type": "code",
      "metadata": {
        "id": "1787188d",
        "colab": {
          "base_uri": "https://localhost:8080/"
        },
        "outputId": "af25fab1-344a-432f-c4df-c7ad2b37c3d6"
      },
      "source": [
        "aList = [123, 'kalyan', 'zara', 'reddy', 'xyz'];\n",
        "aList.remove('xyz');\n",
        "print (\"List : \", aList)\n",
        "aList.remove('kalyan');\n",
        "print (\"List : \", aList)"
      ],
      "id": "1787188d",
      "execution_count": null,
      "outputs": [
        {
          "output_type": "stream",
          "name": "stdout",
          "text": [
            "List :  [123, 'kalyan', 'zara', 'reddy']\n",
            "List :  [123, 'zara', 'reddy']\n"
          ]
        }
      ]
    },
    {
      "cell_type": "code",
      "metadata": {
        "id": "b2c17fb5",
        "colab": {
          "base_uri": "https://localhost:8080/"
        },
        "outputId": "a73a64d5-739b-4d91-ba7d-0752fd12b452"
      },
      "source": [
        "aList = ['kalyan', 'kumar', 'reddy', 'bontha', 'siva'];\n",
        "aList.reverse();\n",
        "print (\"List : \", aList)"
      ],
      "id": "b2c17fb5",
      "execution_count": null,
      "outputs": [
        {
          "output_type": "stream",
          "name": "stdout",
          "text": [
            "List :  ['siva', 'bontha', 'reddy', 'kumar', 'kalyan']\n"
          ]
        }
      ]
    },
    {
      "cell_type": "code",
      "metadata": {
        "id": "2ef2db47",
        "colab": {
          "base_uri": "https://localhost:8080/"
        },
        "outputId": "ef08c83f-79bb-4c27-f920-e3e17ed4d5f5"
      },
      "source": [
        "aList = ['kalyan', 'kuamr', 'reddy', 'siva', 'subbu'];\n",
        "aList.sort();\n",
        "print (\"List : \", aList)"
      ],
      "id": "2ef2db47",
      "execution_count": null,
      "outputs": [
        {
          "output_type": "stream",
          "name": "stdout",
          "text": [
            "List :  ['kalyan', 'kuamr', 'reddy', 'siva', 'subbu']\n"
          ]
        }
      ]
    }
  ]
}